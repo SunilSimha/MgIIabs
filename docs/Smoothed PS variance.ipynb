{
 "cells": [
  {
   "cell_type": "markdown",
   "metadata": {},
   "source": [
    "# Variance of the linear matter power spectrum"
   ]
  },
  {
   "cell_type": "code",
   "execution_count": 1,
   "metadata": {},
   "outputs": [],
   "source": [
    "import numpy as np\n",
    "import matplotlib.pyplot as plt\n",
    "from scipy.integrate import quad\n",
    "from compos import const, matterps, growthfactor as gf\n",
    "from MgIIabs.model import halomassfunc as hmf\n",
    "from MgIIabs.model import halomodel as hmod\n",
    "from astropy.units.astrophys import Mpc, Msun\n",
    "import time\n",
    "import cProfile"
   ]
  },
  {
   "cell_type": "code",
   "execution_count": 2,
   "metadata": {},
   "outputs": [
    {
     "data": {
      "text/latex": [
       "$2.2857143 \\; \\mathrm{Mpc}$"
      ],
      "text/plain": [
       "<Quantity 2.285714285714285 Mpc>"
      ]
     },
     "execution_count": 2,
     "metadata": {},
     "output_type": "execute_result"
    }
   ],
   "source": [
    "hmod.rg(1e18*Msun, z=2.5)"
   ]
  },
  {
   "cell_type": "code",
   "execution_count": 3,
   "metadata": {},
   "outputs": [
    {
     "data": {
      "image/png": "[encoded data removed]",
      "text/plain": [
       "<matplotlib.figure.Figure at 0x7f3ab6308e10>"
      ]
     },
     "metadata": {},
     "output_type": "display_data"
    }
   ],
   "source": [
    "const.initializecosmo(z=2)\n",
    "h = const.cosmo['h']\n",
    "\n",
    "R = 10/h\n",
    "high = 10/R/h\n",
    "k = 10**np.linspace(-8,np.log10(high),10000)*h\n",
    "\n",
    "\n",
    "P = matterps.normalizedmp(k)\n",
    "W = hmf.window_th(k,R)\n",
    "\n",
    "integrand = k*k*W*W*P*k\n",
    "\n",
    "plt.plot(k/h,integrand)\n",
    "plt.ylabel('integrand')\n",
    "plt.xlabel('k (h Mpc $^{-1}$)')\n",
    "plt.title('This is to be integrated to get $\\sigma^2$')\n",
    "plt.show()"
   ]
  },
  {
   "cell_type": "code",
   "execution_count": 4,
   "metadata": {},
   "outputs": [
    {
     "name": "stdout",
     "output_type": "stream",
     "text": [
      "Help on function quad in module scipy.integrate.quadpack:\n",
      "\n",
      "quad(func, a, b, args=(), full_output=0, epsabs=1.49e-08, epsrel=1.49e-08, limit=50, points=None, weight=None, wvar=None, wopts=None, maxp1=50, limlst=50)\n",
      "    Compute a definite integral.\n",
      "    \n",
      "    Integrate func from `a` to `b` (possibly infinite interval) using a\n",
      "    technique from the Fortran library QUADPACK.\n",
      "    \n",
      "    Parameters\n",
      "    ----------\n",
      "    func : {function, scipy.LowLevelCallable}\n",
      "        A Python function or method to integrate.  If `func` takes many\n",
      "        arguments, it is integrated along the axis corresponding to the\n",
      "        first argument.\n",
      "    \n",
      "        If the user desires improved integration performance, then `f` may\n",
      "        be a `scipy.LowLevelCallable` with one of the signatures::\n",
      "    \n",
      "            double func(double x)\n",
      "            double func(double x, void *user_data)\n",
      "            double func(int n, double *xx)\n",
      "            double func(int n, double *xx, void *user_data)\n",
      "    \n",
      "        The ``user_data`` is the data contained in the `scipy.LowLevelCallable`.\n",
      "        In the call forms with ``xx``,  ``n`` is the length of the ``xx`` \n",
      "        array which contains ``xx[0] == x`` and the rest of the items are\n",
      "        numbers contained in the ``args`` argument of quad.\n",
      "    \n",
      "        In addition, certain ctypes call signatures are supported for \n",
      "        backward compatibility, but those should not be used in new code.\n",
      "    a : float\n",
      "        Lower limit of integration (use -numpy.inf for -infinity).\n",
      "    b : float\n",
      "        Upper limit of integration (use numpy.inf for +infinity).\n",
      "    args : tuple, optional\n",
      "        Extra arguments to pass to `func`.\n",
      "    full_output : int, optional\n",
      "        Non-zero to return a dictionary of integration information.\n",
      "        If non-zero, warning messages are also suppressed and the\n",
      "        message is appended to the output tuple.\n",
      "    \n",
      "    Returns\n",
      "    -------\n",
      "    y : float\n",
      "        The integral of func from `a` to `b`.\n",
      "    abserr : float\n",
      "        An estimate of the absolute error in the result.\n",
      "    infodict : dict\n",
      "        A dictionary containing additional information.\n",
      "        Run scipy.integrate.quad_explain() for more information.\n",
      "    message\n",
      "        A convergence message.\n",
      "    explain\n",
      "        Appended only with 'cos' or 'sin' weighting and infinite\n",
      "        integration limits, it contains an explanation of the codes in\n",
      "        infodict['ierlst']\n",
      "    \n",
      "    Other Parameters\n",
      "    ----------------\n",
      "    epsabs : float or int, optional\n",
      "        Absolute error tolerance.\n",
      "    epsrel : float or int, optional\n",
      "        Relative error tolerance.\n",
      "    limit : float or int, optional\n",
      "        An upper bound on the number of subintervals used in the adaptive\n",
      "        algorithm.\n",
      "    points : (sequence of floats,ints), optional\n",
      "        A sequence of break points in the bounded integration interval\n",
      "        where local difficulties of the integrand may occur (e.g.,\n",
      "        singularities, discontinuities). The sequence does not have\n",
      "        to be sorted.\n",
      "    weight : float or int, optional\n",
      "        String indicating weighting function. Full explanation for this\n",
      "        and the remaining arguments can be found below.\n",
      "    wvar : optional\n",
      "        Variables for use with weighting functions.\n",
      "    wopts : optional\n",
      "        Optional input for reusing Chebyshev moments.\n",
      "    maxp1 : float or int, optional\n",
      "        An upper bound on the number of Chebyshev moments.\n",
      "    limlst : int, optional\n",
      "        Upper bound on the number of cycles (>=3) for use with a sinusoidal\n",
      "        weighting and an infinite end-point.\n",
      "    \n",
      "    See Also\n",
      "    --------\n",
      "    dblquad : double integral\n",
      "    tplquad : triple integral\n",
      "    nquad : n-dimensional integrals (uses `quad` recursively)\n",
      "    fixed_quad : fixed-order Gaussian quadrature\n",
      "    quadrature : adaptive Gaussian quadrature\n",
      "    odeint : ODE integrator\n",
      "    ode : ODE integrator\n",
      "    simps : integrator for sampled data\n",
      "    romb : integrator for sampled data\n",
      "    scipy.special : for coefficients and roots of orthogonal polynomials\n",
      "    \n",
      "    Notes\n",
      "    -----\n",
      "    \n",
      "    **Extra information for quad() inputs and outputs**\n",
      "    \n",
      "    If full_output is non-zero, then the third output argument\n",
      "    (infodict) is a dictionary with entries as tabulated below.  For\n",
      "    infinite limits, the range is transformed to (0,1) and the\n",
      "    optional outputs are given with respect to this transformed range.\n",
      "    Let M be the input argument limit and let K be infodict['last'].\n",
      "    The entries are:\n",
      "    \n",
      "    'neval'\n",
      "        The number of function evaluations.\n",
      "    'last'\n",
      "        The number, K, of subintervals produced in the subdivision process.\n",
      "    'alist'\n",
      "        A rank-1 array of length M, the first K elements of which are the\n",
      "        left end points of the subintervals in the partition of the\n",
      "        integration range.\n",
      "    'blist'\n",
      "        A rank-1 array of length M, the first K elements of which are the\n",
      "        right end points of the subintervals.\n",
      "    'rlist'\n",
      "        A rank-1 array of length M, the first K elements of which are the\n",
      "        integral approximations on the subintervals.\n",
      "    'elist'\n",
      "        A rank-1 array of length M, the first K elements of which are the\n",
      "        moduli of the absolute error estimates on the subintervals.\n",
      "    'iord'\n",
      "        A rank-1 integer array of length M, the first L elements of\n",
      "        which are pointers to the error estimates over the subintervals\n",
      "        with ``L=K`` if ``K<=M/2+2`` or ``L=M+1-K`` otherwise. Let I be the\n",
      "        sequence ``infodict['iord']`` and let E be the sequence\n",
      "        ``infodict['elist']``.  Then ``E[I[1]], ..., E[I[L]]`` forms a\n",
      "        decreasing sequence.\n",
      "    \n",
      "    If the input argument points is provided (i.e. it is not None),\n",
      "    the following additional outputs are placed in the output\n",
      "    dictionary.  Assume the points sequence is of length P.\n",
      "    \n",
      "    'pts'\n",
      "        A rank-1 array of length P+2 containing the integration limits\n",
      "        and the break points of the intervals in ascending order.\n",
      "        This is an array giving the subintervals over which integration\n",
      "        will occur.\n",
      "    'level'\n",
      "        A rank-1 integer array of length M (=limit), containing the\n",
      "        subdivision levels of the subintervals, i.e., if (aa,bb) is a\n",
      "        subinterval of ``(pts[1], pts[2])`` where ``pts[0]`` and ``pts[2]``\n",
      "        are adjacent elements of ``infodict['pts']``, then (aa,bb) has level l\n",
      "        if ``|bb-aa| = |pts[2]-pts[1]| * 2**(-l)``.\n",
      "    'ndin'\n",
      "        A rank-1 integer array of length P+2.  After the first integration\n",
      "        over the intervals (pts[1], pts[2]), the error estimates over some\n",
      "        of the intervals may have been increased artificially in order to\n",
      "        put their subdivision forward.  This array has ones in slots\n",
      "        corresponding to the subintervals for which this happens.\n",
      "    \n",
      "    **Weighting the integrand**\n",
      "    \n",
      "    The input variables, *weight* and *wvar*, are used to weight the\n",
      "    integrand by a select list of functions.  Different integration\n",
      "    methods are used to compute the integral with these weighting\n",
      "    functions.  The possible values of weight and the corresponding\n",
      "    weighting functions are.\n",
      "    \n",
      "    ==========  ===================================   =====================\n",
      "    ``weight``  Weight function used                  ``wvar``\n",
      "    ==========  ===================================   =====================\n",
      "    'cos'       cos(w*x)                              wvar = w\n",
      "    'sin'       sin(w*x)                              wvar = w\n",
      "    'alg'       g(x) = ((x-a)**alpha)*((b-x)**beta)   wvar = (alpha, beta)\n",
      "    'alg-loga'  g(x)*log(x-a)                         wvar = (alpha, beta)\n",
      "    'alg-logb'  g(x)*log(b-x)                         wvar = (alpha, beta)\n",
      "    'alg-log'   g(x)*log(x-a)*log(b-x)                wvar = (alpha, beta)\n",
      "    'cauchy'    1/(x-c)                               wvar = c\n",
      "    ==========  ===================================   =====================\n",
      "    \n",
      "    wvar holds the parameter w, (alpha, beta), or c depending on the weight\n",
      "    selected.  In these expressions, a and b are the integration limits.\n",
      "    \n",
      "    For the 'cos' and 'sin' weighting, additional inputs and outputs are\n",
      "    available.\n",
      "    \n",
      "    For finite integration limits, the integration is performed using a\n",
      "    Clenshaw-Curtis method which uses Chebyshev moments.  For repeated\n",
      "    calculations, these moments are saved in the output dictionary:\n",
      "    \n",
      "    'momcom'\n",
      "        The maximum level of Chebyshev moments that have been computed,\n",
      "        i.e., if ``M_c`` is ``infodict['momcom']`` then the moments have been\n",
      "        computed for intervals of length ``|b-a| * 2**(-l)``,\n",
      "        ``l=0,1,...,M_c``.\n",
      "    'nnlog'\n",
      "        A rank-1 integer array of length M(=limit), containing the\n",
      "        subdivision levels of the subintervals, i.e., an element of this\n",
      "        array is equal to l if the corresponding subinterval is\n",
      "        ``|b-a|* 2**(-l)``.\n",
      "    'chebmo'\n",
      "        A rank-2 array of shape (25, maxp1) containing the computed\n",
      "        Chebyshev moments.  These can be passed on to an integration\n",
      "        over the same interval by passing this array as the second\n",
      "        element of the sequence wopts and passing infodict['momcom'] as\n",
      "        the first element.\n",
      "    \n",
      "    If one of the integration limits is infinite, then a Fourier integral is\n",
      "    computed (assuming w neq 0).  If full_output is 1 and a numerical error\n",
      "    is encountered, besides the error message attached to the output tuple,\n",
      "    a dictionary is also appended to the output tuple which translates the\n",
      "    error codes in the array ``info['ierlst']`` to English messages.  The\n",
      "    output information dictionary contains the following entries instead of\n",
      "    'last', 'alist', 'blist', 'rlist', and 'elist':\n",
      "    \n",
      "    'lst'\n",
      "        The number of subintervals needed for the integration (call it ``K_f``).\n",
      "    'rslst'\n",
      "        A rank-1 array of length M_f=limlst, whose first ``K_f`` elements\n",
      "        contain the integral contribution over the interval\n",
      "        ``(a+(k-1)c, a+kc)`` where ``c = (2*floor(|w|) + 1) * pi / |w|``\n",
      "        and ``k=1,2,...,K_f``.\n",
      "    'erlst'\n",
      "        A rank-1 array of length ``M_f`` containing the error estimate\n",
      "        corresponding to the interval in the same position in\n",
      "        ``infodict['rslist']``.\n",
      "    'ierlst'\n",
      "        A rank-1 integer array of length ``M_f`` containing an error flag\n",
      "        corresponding to the interval in the same position in\n",
      "        ``infodict['rslist']``.  See the explanation dictionary (last entry\n",
      "        in the output tuple) for the meaning of the codes.\n",
      "    \n",
      "    Examples\n",
      "    --------\n",
      "    Calculate :math:`\\int^4_0 x^2 dx` and compare with an analytic result\n",
      "    \n",
      "    >>> from scipy import integrate\n",
      "    >>> x2 = lambda x: x**2\n",
      "    >>> integrate.quad(x2, 0, 4)\n",
      "    (21.333333333333332, 2.3684757858670003e-13)\n",
      "    >>> print(4**3 / 3.)  # analytical result\n",
      "    21.3333333333\n",
      "    \n",
      "    Calculate :math:`\\int^\\infty_0 e^{-x} dx`\n",
      "    \n",
      "    >>> invexp = lambda x: np.exp(-x)\n",
      "    >>> integrate.quad(invexp, 0, np.inf)\n",
      "    (1.0, 5.842605999138044e-11)\n",
      "    \n",
      "    >>> f = lambda x,a : a*x\n",
      "    >>> y, err = integrate.quad(f, 0, 1, args=(1,))\n",
      "    >>> y\n",
      "    0.5\n",
      "    >>> y, err = integrate.quad(f, 0, 1, args=(3,))\n",
      "    >>> y\n",
      "    1.5\n",
      "    \n",
      "    Calculate :math:`\\int^1_0 x^2 + y^2 dx` with ctypes, holding\n",
      "    y parameter as 1::\n",
      "    \n",
      "        testlib.c =>\n",
      "            double func(int n, double args[n]){\n",
      "                return args[0]*args[0] + args[1]*args[1];}\n",
      "        compile to library testlib.*\n",
      "    \n",
      "    ::\n",
      "    \n",
      "       from scipy import integrate\n",
      "       import ctypes\n",
      "       lib = ctypes.CDLL('/home/.../testlib.*') #use absolute path\n",
      "       lib.func.restype = ctypes.c_double\n",
      "       lib.func.argtypes = (ctypes.c_int,ctypes.c_double)\n",
      "       integrate.quad(lib.func,0,1,(1))\n",
      "       #(1.3333333333333333, 1.4802973661668752e-14)\n",
      "       print((1.0**3/3.0 + 1.0) - (0.0**3/3.0 + 0.0)) #Analytic result\n",
      "       # 1.3333333333333333\n",
      "\n"
     ]
    }
   ],
   "source": [
    "help(quad)"
   ]
  },
  {
   "cell_type": "code",
   "execution_count": 5,
   "metadata": {},
   "outputs": [
    {
     "data": {
      "text/plain": [
       "1.1517464532667354"
      ]
     },
     "execution_count": 5,
     "metadata": {},
     "output_type": "execute_result"
    }
   ],
   "source": [
    "integrand = lambda x,R: (x*hmf.window_th(x,R))**2*matterps.normalizedmp(x*const.cosmo['h'])\n",
    "variance = lambda R: quad(integrand,1e-5,1000,args=(R,))[0]/(2*np.pi)**2\n",
    "variance(8)# Without log"
   ]
  },
  {
   "cell_type": "code",
   "execution_count": 7,
   "metadata": {},
   "outputs": [
    {
     "data": {
      "text/plain": [
       "1.1517464472826682"
      ]
     },
     "execution_count": 7,
     "metadata": {},
     "output_type": "execute_result"
    }
   ],
   "source": [
    "hmf.psvariance(8) #With log transformation. Do not delete!"
   ]
  },
  {
   "cell_type": "code",
   "execution_count": 9,
   "metadata": {},
   "outputs": [
    {
     "data": {
      "image/png": "[encoded data removed]",
      "text/plain": [
       "<matplotlib.figure.Figure at 0x7f3ab4289dd8>"
      ]
     },
     "metadata": {},
     "output_type": "display_data"
    }
   ],
   "source": [
    "rad = np.linspace(1,20)/const.cosmo['h']\n",
    "variance = np.asarray([hmf.psvariance(radius) for radius in rad])\n",
    "variance2 = np.asarray([hmf.psvariance(radius,growthf=gf.growfunc_z(1)) for radius in rad])\n",
    "plt.plot(rad*const.cosmo['h'],np.log(variance),rad*const.cosmo['h'],np.log(variance2))\n",
    "plt.xlabel('Smoothing Radius (h$^{-1}$ Mpc)')\n",
    "plt.ylabel('log$\\sigma^2$')\n",
    "plt.title('Variance of the smoothed linear power spectrum')\n",
    "plt.show()"
   ]
  },
  {
   "cell_type": "code",
   "execution_count": 10,
   "metadata": {},
   "outputs": [
    {
     "data": {
      "image/png": "[encoded data removed]",
      "text/plain": [
       "<matplotlib.figure.Figure at 0x7f3ab64a9550>"
      ]
     },
     "metadata": {},
     "output_type": "display_data"
    }
   ],
   "source": [
    "gfunc = gf.growfunc_z(2)\n",
    "dlogvardR = np.asarray([hmf.dlogsigma_dr(radius) for radius in rad])\n",
    "another = 0.5*np.diff(np.log(variance))/np.diff(rad)\n",
    "plt.plot(rad*const.cosmo['h'],dlogvardR,rad[1:]*const.cosmo['h'],another)\n",
    "plt.xlabel('Smoothing Radius (h$^{-1}$ Mpc)')\n",
    "plt.ylabel(r'$\\frac{d\\log\\sigma}{dR}$')\n",
    "plt.title('Derivative of the satandard deviation')\n",
    "plt.show()"
   ]
  },
  {
   "cell_type": "code",
   "execution_count": 11,
   "metadata": {},
   "outputs": [
    {
     "data": {
      "image/png": "[encoded data removed]",
      "text/plain": [
       "<matplotlib.figure.Figure at 0x7f3ab41cfda0>"
      ]
     },
     "metadata": {},
     "output_type": "display_data"
    }
   ],
   "source": [
    "x = 1/variance\n",
    "y = hmf.f_of_sigma(np.sqrt(variance))\n",
    "x2 = 1/variance2\n",
    "y2 = hmf.f_of_sigma(np.sqrt(variance2))\n",
    "plt.loglog(x,y,x2,y2)\n",
    "plt.xlabel('log$1/\\sigma$')\n",
    "plt.ylabel(r'log$f(\\sigma)$')\n",
    "plt.title('Universal mass function factor')\n",
    "plt.show()"
   ]
  },
  {
   "cell_type": "code",
   "execution_count": 24,
   "metadata": {
    "scrolled": true
   },
   "outputs": [
    {
     "name": "stdout",
     "output_type": "stream",
     "text": [
      "         40713 function calls in 0.182 seconds\n",
      "\n",
      "   Ordered by: standard name\n",
      "\n",
      "   ncalls  tottime  percall  cumtime  percall filename:lineno(function)\n",
      "        2    0.000    0.000    0.000    0.000 <frozen importlib._bootstrap>:995(_handle_fromlist)\n",
      "        1    0.000    0.000    0.182    0.182 <string>:1(<module>)\n",
      "     1197    0.010    0.000    0.010    0.000 halomassfunc.py:21(window_th)\n",
      "        1    0.000    0.000    0.182    0.182 halomassfunc.py:45(psvariance)\n",
      "     1197    0.005    0.000    0.180    0.000 halomassfunc.py:76(integrand)\n",
      "     1197    0.003    0.000    0.165    0.000 matterps.py:105(normalizedmp)\n",
      "     1197    0.013    0.000    0.158    0.000 matterps.py:48(delta2)\n",
      "     1197    0.003    0.000    0.161    0.000 matterps.py:79(matterps)\n",
      "     1197    0.001    0.000    0.001    0.000 matterps.py:93(sigma8)\n",
      "        1    0.000    0.000    0.182    0.182 quadpack.py:370(_quad)\n",
      "        1    0.000    0.000    0.182    0.182 quadpack.py:44(quad)\n",
      "     3591    0.003    0.000    0.003    0.000 transfunction.py:11(zeq)\n",
      "     1197    0.022    0.000    0.085    0.000 transfunction.py:111(Tbaryon)\n",
      "     1197    0.012    0.000    0.012    0.000 transfunction.py:120(Gfunc)\n",
      "     1197    0.003    0.000    0.145    0.000 transfunction.py:139(transfunction)\n",
      "     7182    0.007    0.000    0.007    0.000 transfunction.py:19(keq)\n",
      "     3591    0.015    0.000    0.015    0.000 transfunction.py:27(zdrag)\n",
      "     5985    0.007    0.000    0.007    0.000 transfunction.py:39(ratiob2p)\n",
      "     2394    0.032    0.000    0.052    0.000 transfunction.py:47(soundhorizon)\n",
      "     1197    0.003    0.000    0.003    0.000 transfunction.py:60(ksilk)\n",
      "     1197    0.004    0.000    0.004    0.000 transfunction.py:70(j_0)\n",
      "     3591    0.022    0.000    0.025    0.000 transfunction.py:77(Ttilde)\n",
      "     1197    0.014    0.000    0.056    0.000 transfunction.py:89(Tcdm)\n",
      "        1    0.000    0.000    0.182    0.182 {built-in method builtins.exec}\n",
      "        5    0.000    0.000    0.000    0.000 {built-in method builtins.hasattr}\n",
      "        1    0.000    0.000    0.000    0.000 {built-in method builtins.isinstance}\n",
      "        1    0.002    0.002    0.182    0.182 {built-in method scipy.integrate._quadpack._qagse}\n",
      "        1    0.000    0.000    0.000    0.000 {method 'disable' of '_lsprof.Profiler' objects}\n",
      "\n",
      "\n"
     ]
    }
   ],
   "source": [
    "import time\n",
    "import cProfile\n",
    "cProfile.run(\"hmf.psvariance(1,low=-7,high=2)\")"
   ]
  },
  {
   "cell_type": "code",
   "execution_count": 18,
   "metadata": {},
   "outputs": [
    {
     "data": {
      "text/plain": [
       "(10.306859803631319, 10.306859315468285)"
      ]
     },
     "execution_count": 18,
     "metadata": {},
     "output_type": "execute_result"
    }
   ],
   "source": [
    "hmf.psvariance(1),hmf.psvariance(1,high=2)"
   ]
  },
  {
   "cell_type": "code",
   "execution_count": 8,
   "metadata": {},
   "outputs": [
    {
     "data": {
      "text/plain": [
       "10.306859792346003"
      ]
     },
     "execution_count": 8,
     "metadata": {},
     "output_type": "execute_result"
    }
   ],
   "source": [
    "hmf.psvariance(1,num=100000)"
   ]
  },
  {
   "cell_type": "code",
   "execution_count": 23,
   "metadata": {},
   "outputs": [],
   "source": [
    "from astropy.table import Table\n",
    "k=np.linspace(1e-8,1000,10000000+1)\n",
    "psk = matterps.normalizedmp(k*const.cosmo['h'])\n",
    "wkR = hmf.window_th(k,1)\n",
    "integrand = (k*wkR)**2*psk/(2*np.pi)**2"
   ]
  },
  {
   "cell_type": "code",
   "execution_count": 24,
   "metadata": {},
   "outputs": [
    {
     "data": {
      "image/png": "[encoded data removed]",
      "text/plain": [
       "<matplotlib.figure.Figure at 0x7f1dd4bc4550>"
      ]
     },
     "metadata": {},
     "output_type": "display_data"
    }
   ],
   "source": [
    "plt.plot(k,integrand)\n",
    "plt.show()"
   ]
  },
  {
   "cell_type": "code",
   "execution_count": 10,
   "metadata": {
    "scrolled": true
   },
   "outputs": [
    {
     "name": "stdout",
     "output_type": "stream",
     "text": [
      "         97 function calls in 0.032 seconds\n",
      "\n",
      "   Ordered by: standard name\n",
      "\n",
      "   ncalls  tottime  percall  cumtime  percall filename:lineno(function)\n",
      "        2    0.000    0.000    0.000    0.000 <frozen importlib._bootstrap>:995(_handle_fromlist)\n",
      "        1    0.000    0.000    0.032    0.032 <string>:1(<module>)\n",
      "        2    0.000    0.000    0.000    0.000 _methods.py:31(_sum)\n",
      "        2    0.000    0.000    0.000    0.000 fromnumeric.py:1730(sum)\n",
      "        1    0.000    0.000    0.000    0.000 function_base.py:13(_index_deprecate)\n",
      "        2    0.000    0.000    0.000    0.000 function_base.py:1848(diff)\n",
      "        1    0.000    0.000    0.000    0.000 function_base.py:25(linspace)\n",
      "        1    0.003    0.003    0.003    0.003 halomassfunc.py:21(window_th)\n",
      "        1    0.002    0.002    0.032    0.032 halomassfunc.py:45(psvariance)\n",
      "        1    0.000    0.000    0.026    0.026 matterps.py:105(normalizedmp)\n",
      "        1    0.002    0.002    0.024    0.024 matterps.py:48(delta2)\n",
      "        1    0.002    0.002    0.026    0.026 matterps.py:79(matterps)\n",
      "        1    0.000    0.000    0.000    0.000 matterps.py:93(sigma8)\n",
      "        2    0.000    0.000    0.000    0.000 numeric.py:463(asarray)\n",
      "        4    0.000    0.000    0.000    0.000 numeric.py:534(asanyarray)\n",
      "       14    0.000    0.000    0.000    0.000 quadrature.py:203(tupleset)\n",
      "        2    0.001    0.000    0.001    0.000 quadrature.py:301(_basic_simps)\n",
      "        1    0.000    0.000    0.001    0.001 quadrature.py:332(simps)\n",
      "        3    0.000    0.000    0.000    0.000 transfunction.py:11(zeq)\n",
      "        1    0.009    0.009    0.013    0.013 transfunction.py:111(Tbaryon)\n",
      "        1    0.000    0.000    0.000    0.000 transfunction.py:120(Gfunc)\n",
      "        1    0.000    0.000    0.022    0.022 transfunction.py:139(transfunction)\n",
      "        6    0.000    0.000    0.000    0.000 transfunction.py:19(keq)\n",
      "        3    0.000    0.000    0.000    0.000 transfunction.py:27(zdrag)\n",
      "        5    0.000    0.000    0.000    0.000 transfunction.py:39(ratiob2p)\n",
      "        2    0.000    0.000    0.000    0.000 transfunction.py:47(soundhorizon)\n",
      "        1    0.000    0.000    0.000    0.000 transfunction.py:60(ksilk)\n",
      "        1    0.001    0.001    0.001    0.001 transfunction.py:70(j_0)\n",
      "        3    0.010    0.003    0.010    0.003 transfunction.py:77(Ttilde)\n",
      "        1    0.002    0.002    0.009    0.009 transfunction.py:89(Tcdm)\n",
      "        1    0.000    0.000    0.000    0.000 {built-in method _operator.index}\n",
      "        1    0.000    0.000    0.032    0.032 {built-in method builtins.exec}\n",
      "        7    0.000    0.000    0.000    0.000 {built-in method builtins.hasattr}\n",
      "        2    0.000    0.000    0.000    0.000 {built-in method builtins.isinstance}\n",
      "        4    0.000    0.000    0.000    0.000 {built-in method builtins.len}\n",
      "        1    0.000    0.000    0.000    0.000 {built-in method numpy.core.multiarray.arange}\n",
      "        6    0.000    0.000    0.000    0.000 {built-in method numpy.core.multiarray.array}\n",
      "        1    0.000    0.000    0.000    0.000 {built-in method numpy.core.multiarray.result_type}\n",
      "        1    0.000    0.000    0.000    0.000 {method 'astype' of 'numpy.ndarray' objects}\n",
      "        1    0.000    0.000    0.000    0.000 {method 'disable' of '_lsprof.Profiler' objects}\n",
      "        2    0.000    0.000    0.000    0.000 {method 'reduce' of 'numpy.ufunc' objects}\n",
      "        2    0.000    0.000    0.000    0.000 {method 'reshape' of 'numpy.ndarray' objects}\n",
      "\n",
      "\n"
     ]
    }
   ],
   "source": [
    "cProfile.run(\"hmf.psvariance(1,num=10000)\")"
   ]
  },
  {
   "cell_type": "code",
   "execution_count": 39,
   "metadata": {},
   "outputs": [
    {
     "data": {
      "text/plain": [
       "10.306859302286027"
      ]
     },
     "execution_count": 39,
     "metadata": {},
     "output_type": "execute_result"
    }
   ],
   "source": [
    "simps(integrand[k<100],k[k<100])"
   ]
  },
  {
   "cell_type": "markdown",
   "metadata": {},
   "source": [
    "## Precalculating the growth factor"
   ]
  },
  {
   "cell_type": "markdown",
   "metadata": {},
   "source": [
    "The growth factor calculating function is pretty costly. It is best to reduce the computational load when calculating the power-spectrum variance by calculating it beforehand and passing it on to `psvariance`"
   ]
  },
  {
   "cell_type": "code",
   "execution_count": 3,
   "metadata": {
    "scrolled": true
   },
   "outputs": [
    {
     "name": "stdout",
     "output_type": "stream",
     "text": [
      "         134271 function calls in 0.459 seconds\n",
      "\n",
      "   Ordered by: standard name\n",
      "\n",
      "   ncalls  tottime  percall  cumtime  percall filename:lineno(function)\n",
      "        4    0.000    0.000    0.000    0.000 <frozen importlib._bootstrap>:995(_handle_fromlist)\n",
      "        1    0.000    0.000    0.459    0.459 <string>:1(<module>)\n",
      "        1    0.000    0.000    0.000    0.000 const.py:27(initializecosmo)\n",
      "        4    0.000    0.000    0.000    0.000 copy.py:125(_copy_with_constructor)\n",
      "        4    0.000    0.000    0.000    0.000 copy.py:67(copy)\n",
      "        1    0.000    0.000    0.237    0.237 growthfactor.py:108(growfunc_z)\n",
      "        1    0.000    0.000    0.000    0.000 growthfactor.py:12(z2a)\n",
      "      540    0.001    0.000    0.001    0.000 growthfactor.py:18(a2z)\n",
      "    45900    0.063    0.000    0.063    0.000 growthfactor.py:24(w_z)\n",
      "    45360    0.048    0.000    0.109    0.000 growthfactor.py:37(func)\n",
      "     2160    0.004    0.000    0.169    0.000 growthfactor.py:41(exponent)\n",
      "     1620    0.032    0.000    0.160    0.000 growthfactor.py:47(hubble)\n",
      "     1080    0.009    0.000    0.115    0.000 growthfactor.py:61(om_0)\n",
      "      540    0.006    0.000    0.102    0.000 growthfactor.py:73(om_q)\n",
      "      540    0.011    0.000    0.231    0.000 growthfactor.py:83(ffunc)\n",
      "        2    0.000    0.000    0.237    0.118 growthfactor.py:97(growfunc_a)\n",
      "      819    0.012    0.000    0.012    0.000 halomassfunc.py:18(window_th)\n",
      "        1    0.000    0.000    0.459    0.459 halomassfunc.py:42(psvariance)\n",
      "      819    0.004    0.000    0.221    0.000 halomassfunc.py:79(<lambda>)\n",
      "      819    0.003    0.000    0.205    0.000 matterps.py:105(normalizedmp)\n",
      "      819    0.016    0.000    0.196    0.000 matterps.py:48(delta2)\n",
      "      819    0.004    0.000    0.200    0.000 matterps.py:79(matterps)\n",
      "      819    0.001    0.000    0.001    0.000 matterps.py:93(sigma8)\n",
      "        2    0.000    0.000    0.237    0.118 odepack.py:25(odeint)\n",
      "     2161    0.006    0.000    0.379    0.000 quadpack.py:370(_quad)\n",
      "     2161    0.007    0.000    0.388    0.000 quadpack.py:44(quad)\n",
      "     2457    0.004    0.000    0.004    0.000 transfunction.py:11(zeq)\n",
      "      819    0.026    0.000    0.106    0.000 transfunction.py:111(Tbaryon)\n",
      "      819    0.017    0.000    0.017    0.000 transfunction.py:120(Gfunc)\n",
      "      819    0.004    0.000    0.180    0.000 transfunction.py:139(transfunction)\n",
      "     4914    0.007    0.000    0.007    0.000 transfunction.py:19(keq)\n",
      "     2457    0.018    0.000    0.018    0.000 transfunction.py:27(zdrag)\n",
      "     4095    0.009    0.000    0.009    0.000 transfunction.py:39(ratiob2p)\n",
      "     1638    0.042    0.000    0.065    0.000 transfunction.py:47(soundhorizon)\n",
      "      819    0.003    0.000    0.003    0.000 transfunction.py:60(ksilk)\n",
      "      819    0.006    0.000    0.006    0.000 transfunction.py:70(j_0)\n",
      "     2457    0.028    0.000    0.032    0.000 transfunction.py:77(Ttilde)\n",
      "      819    0.017    0.000    0.070    0.000 transfunction.py:89(Tcdm)\n",
      "        1    0.000    0.000    0.459    0.459 {built-in method builtins.exec}\n",
      "       10    0.000    0.000    0.000    0.000 {built-in method builtins.hasattr}\n",
      "     2161    0.001    0.000    0.001    0.000 {built-in method builtins.isinstance}\n",
      "        2    0.000    0.000    0.000    0.000 {built-in method builtins.len}\n",
      "        2    0.006    0.003    0.237    0.118 {built-in method scipy.integrate._odepack.odeint}\n",
      "     2161    0.044    0.000    0.373    0.000 {built-in method scipy.integrate._quadpack._qagse}\n",
      "        1    0.000    0.000    0.000    0.000 {method 'disable' of '_lsprof.Profiler' objects}\n",
      "        4    0.000    0.000    0.000    0.000 {method 'get' of 'dict' objects}\n",
      "\n",
      "\n"
     ]
    }
   ],
   "source": [
    "cProfile.run(\"hmf.psvariance(1,z=1)\") #Do not delete. This is with the growthfactor pre-calculated"
   ]
  },
  {
   "cell_type": "code",
   "execution_count": 2,
   "metadata": {
    "scrolled": true
   },
   "outputs": [
    {
     "name": "stdout",
     "output_type": "stream",
     "text": [
      "         179841024 function calls (168892629 primitive calls) in 243.824 seconds\n",
      "\n",
      "   Ordered by: standard name\n",
      "\n",
      "   ncalls  tottime  percall  cumtime  percall filename:lineno(function)\n",
      "        4    0.000    0.000    0.000    0.000 <frozen importlib._bootstrap>:995(_handle_fromlist)\n",
      "        1    0.000    0.000  243.824  243.824 <string>:1(<module>)\n",
      "        1    0.000    0.000    0.000    0.000 const.py:27(initializecosmo)\n",
      "     6552    0.012    0.000    0.012    0.000 copy.py:125(_copy_with_constructor)\n",
      "     6552    0.019    0.000    0.034    0.000 copy.py:67(copy)\n",
      "     1638    0.008    0.000  243.356    0.149 growthfactor.py:108(growfunc_z)\n",
      "     1638    0.001    0.000    0.001    0.000 growthfactor.py:12(z2a)\n",
      "   912366    1.461    0.000    1.461    0.000 growthfactor.py:18(a2z)\n",
      " 77551110   65.441    0.000   65.441    0.000 growthfactor.py:24(w_z)\n",
      " 76638744   51.201    0.000  114.756    0.000 growthfactor.py:37(func)\n",
      "  3649464    4.117    0.000  176.482    0.000 growthfactor.py:41(exponent)\n",
      "  2737098   32.367    0.000  164.774    0.000 growthfactor.py:47(hubble)\n",
      "  1824732    8.054    0.000  118.125    0.000 growthfactor.py:61(om_0)\n",
      "   912366    6.510    0.000  105.288    0.000 growthfactor.py:73(om_q)\n",
      "   912366   10.876    0.000  237.636    0.000 growthfactor.py:83(ffunc)\n",
      "     3276    0.061    0.000  243.347    0.074 growthfactor.py:97(growfunc_a)\n",
      "      819    0.017    0.000    0.017    0.000 halomassfunc.py:18(window_th)\n",
      "        1    0.000    0.000  243.824  243.824 halomassfunc.py:42(psvariance)\n",
      "      819    0.005    0.000  243.821    0.298 halomassfunc.py:80(<lambda>)\n",
      "      819    0.007    0.000  243.799    0.298 matterps.py:105(normalizedmp)\n",
      "     2142    0.037    0.000    0.409    0.000 matterps.py:48(delta2)\n",
      "      819    0.003    0.000    0.154    0.000 matterps.py:79(matterps)\n",
      "     1323    0.011    0.000    0.011    0.000 matterps.py:86(_j1)\n",
      "     1323    0.007    0.000    0.277    0.000 matterps.py:90(_func)\n",
      "      819    0.002    0.000    0.281    0.000 matterps.py:93(sigma8)\n",
      "     3276    0.031    0.000  243.285    0.074 odepack.py:25(odeint)\n",
      "3649466/1    5.817    0.000  243.824  243.824 quadpack.py:370(_quad)\n",
      "3649466/1    6.913    0.000  243.824  243.824 quadpack.py:44(quad)\n",
      "     6426    0.009    0.000    0.009    0.000 transfunction.py:11(zeq)\n",
      "     2142    0.061    0.000    0.224    0.000 transfunction.py:111(Tbaryon)\n",
      "     2142    0.034    0.000    0.034    0.000 transfunction.py:120(Gfunc)\n",
      "     2142    0.008    0.000    0.372    0.000 transfunction.py:139(transfunction)\n",
      "    12852    0.014    0.000    0.014    0.000 transfunction.py:19(keq)\n",
      "     6426    0.033    0.000    0.033    0.000 transfunction.py:27(zdrag)\n",
      "    10710    0.016    0.000    0.016    0.000 transfunction.py:39(ratiob2p)\n",
      "     4284    0.088    0.000    0.130    0.000 transfunction.py:47(soundhorizon)\n",
      "     2142    0.006    0.000    0.006    0.000 transfunction.py:60(ksilk)\n",
      "     2142    0.011    0.000    0.011    0.000 transfunction.py:70(j_0)\n",
      "     6426    0.059    0.000    0.066    0.000 transfunction.py:77(Ttilde)\n",
      "     2142    0.034    0.000    0.139    0.000 transfunction.py:89(Tcdm)\n",
      "        1    0.000    0.000  243.824  243.824 {built-in method builtins.exec}\n",
      "       10    0.000    0.000    0.000    0.000 {built-in method builtins.hasattr}\n",
      "  3649466    0.956    0.000    0.956    0.000 {built-in method builtins.isinstance}\n",
      "     3276    0.002    0.000    0.002    0.000 {built-in method builtins.len}\n",
      "     3276    5.583    0.002  243.218    0.074 {built-in method scipy.integrate._odepack.odeint}\n",
      "3649466/1   43.928    0.000  243.824  243.824 {built-in method scipy.integrate._quadpack._qagse}\n",
      "        1    0.000    0.000    0.000    0.000 {method 'disable' of '_lsprof.Profiler' objects}\n",
      "     6552    0.003    0.000    0.003    0.000 {method 'get' of 'dict' objects}\n",
      "\n",
      "\n"
     ]
    }
   ],
   "source": [
    "cProfile.run(\"hmf.psvariance(1,z=1)\") #Do not delete. This is without the precalculated growthfactor"
   ]
  },
  {
   "cell_type": "markdown",
   "metadata": {},
   "source": [
    "Clearly, you don't want to make this mistake. The function has now been modified to take the growthfactor as a mandatory argument. It can be called as shown below:"
   ]
  },
  {
   "cell_type": "code",
   "execution_count": 6,
   "metadata": {},
   "outputs": [
    {
     "data": {
      "text/plain": [
       "3.783520592240817"
      ]
     },
     "execution_count": 6,
     "metadata": {},
     "output_type": "execute_result"
    }
   ],
   "source": [
    "hmf.psvariance(R=1,growthf=growthfactor.growfunc_z(1))"
   ]
  },
  {
   "cell_type": "code",
   "execution_count": 7,
   "metadata": {
    "scrolled": true
   },
   "outputs": [
    {
     "name": "stdout",
     "output_type": "stream",
     "text": [
      "         134271 function calls in 0.281 seconds\n",
      "\n",
      "   Ordered by: standard name\n",
      "\n",
      "   ncalls  tottime  percall  cumtime  percall filename:lineno(function)\n",
      "        4    0.000    0.000    0.000    0.000 <frozen importlib._bootstrap>:995(_handle_fromlist)\n",
      "        1    0.000    0.000    0.280    0.280 <string>:1(<module>)\n",
      "        1    0.000    0.000    0.000    0.000 const.py:27(initializecosmo)\n",
      "        4    0.000    0.000    0.000    0.000 copy.py:125(_copy_with_constructor)\n",
      "        4    0.000    0.000    0.000    0.000 copy.py:67(copy)\n",
      "        1    0.000    0.000    0.172    0.172 growthfactor.py:108(growfunc_z)\n",
      "        1    0.000    0.000    0.000    0.000 growthfactor.py:12(z2a)\n",
      "      540    0.001    0.000    0.001    0.000 growthfactor.py:18(a2z)\n",
      "    45900    0.048    0.000    0.048    0.000 growthfactor.py:24(w_z)\n",
      "    45360    0.038    0.000    0.085    0.000 growthfactor.py:37(func)\n",
      "     2160    0.003    0.000    0.127    0.000 growthfactor.py:41(exponent)\n",
      "     1620    0.022    0.000    0.116    0.000 growthfactor.py:47(hubble)\n",
      "     1080    0.005    0.000    0.081    0.000 growthfactor.py:61(om_0)\n",
      "      540    0.004    0.000    0.078    0.000 growthfactor.py:73(om_q)\n",
      "      540    0.007    0.000    0.168    0.000 growthfactor.py:83(ffunc)\n",
      "        2    0.000    0.000    0.172    0.086 growthfactor.py:97(growfunc_a)\n",
      "      819    0.006    0.000    0.006    0.000 halomassfunc.py:18(window_th)\n",
      "        1    0.000    0.000    0.109    0.109 halomassfunc.py:42(psvariance)\n",
      "      819    0.002    0.000    0.108    0.000 halomassfunc.py:77(<lambda>)\n",
      "      819    0.002    0.000    0.100    0.000 matterps.py:105(normalizedmp)\n",
      "      819    0.008    0.000    0.095    0.000 matterps.py:48(delta2)\n",
      "      819    0.002    0.000    0.097    0.000 matterps.py:79(matterps)\n",
      "      819    0.001    0.000    0.001    0.000 matterps.py:93(sigma8)\n",
      "        2    0.000    0.000    0.172    0.086 odepack.py:25(odeint)\n",
      "     2161    0.004    0.000    0.228    0.000 quadpack.py:370(_quad)\n",
      "     2161    0.005    0.000    0.233    0.000 quadpack.py:44(quad)\n",
      "     2457    0.002    0.000    0.002    0.000 transfunction.py:11(zeq)\n",
      "      819    0.013    0.000    0.052    0.000 transfunction.py:111(Tbaryon)\n",
      "      819    0.008    0.000    0.008    0.000 transfunction.py:120(Gfunc)\n",
      "      819    0.002    0.000    0.088    0.000 transfunction.py:139(transfunction)\n",
      "     4914    0.004    0.000    0.004    0.000 transfunction.py:19(keq)\n",
      "     2457    0.009    0.000    0.009    0.000 transfunction.py:27(zdrag)\n",
      "     4095    0.004    0.000    0.004    0.000 transfunction.py:39(ratiob2p)\n",
      "     1638    0.019    0.000    0.031    0.000 transfunction.py:47(soundhorizon)\n",
      "      819    0.002    0.000    0.002    0.000 transfunction.py:60(ksilk)\n",
      "      819    0.002    0.000    0.002    0.000 transfunction.py:70(j_0)\n",
      "     2457    0.013    0.000    0.015    0.000 transfunction.py:77(Ttilde)\n",
      "      819    0.009    0.000    0.034    0.000 transfunction.py:89(Tcdm)\n",
      "        1    0.000    0.000    0.281    0.281 {built-in method builtins.exec}\n",
      "       10    0.000    0.000    0.000    0.000 {built-in method builtins.hasattr}\n",
      "     2161    0.001    0.000    0.001    0.000 {built-in method builtins.isinstance}\n",
      "        2    0.000    0.000    0.000    0.000 {built-in method builtins.len}\n",
      "        2    0.004    0.002    0.172    0.086 {built-in method scipy.integrate._odepack.odeint}\n",
      "     2161    0.032    0.000    0.224    0.000 {built-in method scipy.integrate._quadpack._qagse}\n",
      "        1    0.000    0.000    0.000    0.000 {method 'disable' of '_lsprof.Profiler' objects}\n",
      "        4    0.000    0.000    0.000    0.000 {method 'get' of 'dict' objects}\n",
      "\n",
      "\n"
     ]
    }
   ],
   "source": [
    "#looking at profiling:\n",
    "cProfile.run('hmf.psvariance(R=1,growthf=gf.growfunc_z(1))')"
   ]
  },
  {
   "cell_type": "markdown",
   "metadata": {},
   "source": [
    "Whenever a higher level function needs to use psvariance, it can call it once and be done with it. No problem"
   ]
  },
  {
   "cell_type": "code",
   "execution_count": 6,
   "metadata": {},
   "outputs": [
    {
     "data": {
      "text/plain": [
       "array([ 91.44496967,  17.03796598])"
      ]
     },
     "execution_count": 6,
     "metadata": {},
     "output_type": "execute_result"
    }
   ],
   "source": [
    "matterps.normalizedmp(np.array([1,2]))"
   ]
  }
 ],
 "metadata": {
  "kernelspec": {
   "display_name": "Python [conda root]",
   "language": "python",
   "name": "conda-root-py"
  },
  "language_info": {
   "codemirror_mode": {
    "name": "ipython",
    "version": 3
   },
   "file_extension": ".py",
   "mimetype": "text/x-python",
   "name": "python",
   "nbconvert_exporter": "python",
   "pygments_lexer": "ipython3",
   "version": "3.5.4"
  }
 },
 "nbformat": 4,
 "nbformat_minor": 2
}
