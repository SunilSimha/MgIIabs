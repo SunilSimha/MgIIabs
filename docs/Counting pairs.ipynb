{
 "cells": [
  {
   "cell_type": "markdown",
   "metadata": {},
   "source": [
    "# Counting pairs"
   ]
  },
  {
   "cell_type": "code",
   "execution_count": 1,
   "metadata": {},
   "outputs": [],
   "source": [
    "import os\n",
    "import numpy as np\n",
    "import astropy.io.fits as fits\n",
    "from astropy.table import Table, unique\n",
    "from MgIIabs.count import getdata "
   ]
  },
  {
   "cell_type": "code",
   "execution_count": 2,
   "metadata": {},
   "outputs": [],
   "source": [
    "data_folder = os.environ['MGIIDATA']\n",
    "MCdir = \"MC data from G Ben Zhu/\"\n",
    "mcfiles = os.listdir(data_folder+MCdir)[:-1]\n",
    "fullData = getdata.getObsData()"
   ]
  },
  {
   "cell_type": "code",
   "execution_count": 3,
   "metadata": {},
   "outputs": [],
   "source": [
    "minREW = 1\n",
    "truncData = fullData[fullData['REW_MGII_2796'] > minREW]"
   ]
  },
  {
   "cell_type": "code",
   "execution_count": 4,
   "metadata": {},
   "outputs": [],
   "source": [
    "zmin = 0\n",
    "zmax = float('inf')\n",
    "fullData = Table.read(data_folder+'Trimmed_SDSS_DR7_107_NonBAL_NonRpt_SDSSRpt.fits')\n",
    "fullData = fullData[fullData['BAL_FLG']==0]\n",
    "fullData = fullData[(fullData['ZABS']>=zmin)*(fullData['ZABS']<=zmax)]\n",
    "#Filtering out associated absorbers (<5000 km/s away)\n",
    "fullData = fullData[abs(getdata.relVec(fullData['ZABS'],\n",
    "                    fullData['ZQSO']))>(5000/3e5)]\n",
    "truncData = fullData[fullData['REW_MGII_2796'] > minREW]\n",
    "groupedData = truncData.group_by(['PLATE','FIBER','MJD'])\n",
    "uniquePFMJD = groupedData.groups.keys"
   ]
  },
  {
   "cell_type": "code",
   "execution_count": 5,
   "metadata": {},
   "outputs": [],
   "source": [
    "mctables = [fits.open(data_folder+MCdir+file, memmap=True)[1].data for file in mcfiles]"
   ]
  },
  {
   "cell_type": "code",
   "execution_count": 6,
   "metadata": {},
   "outputs": [],
   "source": [
    "zgrid = getdata.getZgrid()\n",
    "zrange = (zgrid>=zmin)*(zgrid<=zmax)"
   ]
  },
  {
   "cell_type": "code",
   "execution_count": 16,
   "metadata": {},
   "outputs": [],
   "source": [
    "from itertools import combinations as combos\n",
    "from itertools import chain\n",
    "\n",
    "for group in groupedData:\n",
    "    zlist = group['ZABS']\n",
    "    pairs = zlist"
   ]
  },
  {
   "cell_type": "code",
   "execution_count": 14,
   "metadata": {},
   "outputs": [
    {
     "ename": "KeyboardInterrupt",
     "evalue": "",
     "output_type": "error",
     "traceback": [
      "\u001b[0;31m---------------------------------------------------------------------------\u001b[0m",
      "\u001b[0;31mKeyboardInterrupt\u001b[0m                         Traceback (most recent call last)",
      "\u001b[0;32m<ipython-input-14-b4b61d9ff7a2>\u001b[0m in \u001b[0;36m<module>\u001b[0;34m()\u001b[0m\n\u001b[1;32m      8\u001b[0m \u001b[0;32mfor\u001b[0m \u001b[0mpfmjd\u001b[0m\u001b[0;34m,\u001b[0m \u001b[0mgroup\u001b[0m \u001b[0;32min\u001b[0m \u001b[0mzip\u001b[0m\u001b[0;34m(\u001b[0m\u001b[0muniquePFMJD\u001b[0m\u001b[0;34m,\u001b[0m\u001b[0mgroupedData\u001b[0m\u001b[0;34m)\u001b[0m\u001b[0;34m:\u001b[0m\u001b[0;34m\u001b[0m\u001b[0m\n\u001b[1;32m      9\u001b[0m     \u001b[0;32mfor\u001b[0m \u001b[0mtab\u001b[0m \u001b[0;32min\u001b[0m \u001b[0mmctables\u001b[0m\u001b[0;34m:\u001b[0m\u001b[0;34m\u001b[0m\u001b[0m\n\u001b[0;32m---> 10\u001b[0;31m         \u001b[0mtemp\u001b[0m \u001b[0;34m=\u001b[0m \u001b[0mtab\u001b[0m\u001b[0;34m[\u001b[0m\u001b[0mtab\u001b[0m\u001b[0;34m[\u001b[0m\u001b[0;34m'PLATE'\u001b[0m\u001b[0;34m]\u001b[0m\u001b[0;34m==\u001b[0m\u001b[0mpfmjd\u001b[0m\u001b[0;34m[\u001b[0m\u001b[0;36m0\u001b[0m\u001b[0;34m]\u001b[0m\u001b[0;34m]\u001b[0m\u001b[0;34m\u001b[0m\u001b[0m\n\u001b[0m\u001b[1;32m     11\u001b[0m         \u001b[0mtemp\u001b[0m \u001b[0;34m=\u001b[0m \u001b[0mtemp\u001b[0m\u001b[0;34m[\u001b[0m\u001b[0mtemp\u001b[0m\u001b[0;34m[\u001b[0m\u001b[0;34m'FIBER'\u001b[0m\u001b[0;34m]\u001b[0m\u001b[0;34m==\u001b[0m\u001b[0mpfmjd\u001b[0m\u001b[0;34m[\u001b[0m\u001b[0;36m1\u001b[0m\u001b[0;34m]\u001b[0m\u001b[0;34m]\u001b[0m\u001b[0;34m\u001b[0m\u001b[0m\n\u001b[1;32m     12\u001b[0m         \u001b[0;32mif\u001b[0m \u001b[0mlen\u001b[0m\u001b[0;34m(\u001b[0m\u001b[0mtemp\u001b[0m\u001b[0;34m)\u001b[0m\u001b[0;34m==\u001b[0m\u001b[0;36m0\u001b[0m\u001b[0;34m:\u001b[0m\u001b[0;34m\u001b[0m\u001b[0m\n",
      "\u001b[0;31mKeyboardInterrupt\u001b[0m: "
     ]
    }
   ],
   "source": [
    "import cProfile, pstats, io\n",
    "pr = cProfile.Profile()\n",
    "pr.enable()\n",
    "\n",
    "#final_list = Table(names=('zabs','cover','rewgrid'),dtype=(list,list,list))\n",
    "final_list = []\n",
    "\n",
    "for pfmjd, group in zip(uniquePFMJD,groupedData):\n",
    "    for tab in mctables:\n",
    "        temp = tab[tab['PLATE']==pfmjd[0]]\n",
    "        temp = temp[temp['FIBER']==pfmjd[1]]\n",
    "        if len(temp)==0:\n",
    "            continue\n",
    "        else:\n",
    "            final_list.append([group['ZABS'],temp[0][2][zrange],temp[0][3][zrange]])\n",
    "            break\n",
    "pr.disable()\n",
    "s = io.StringIO()\n",
    "sortby = 'cumulative'\n",
    "ps = pstats.Stats(pr, stream=s).sort_stats(sortby)\n",
    "ps.print_stats()\n",
    "print(s.getvalue())"
   ]
  },
  {
   "cell_type": "code",
   "execution_count": 17,
   "metadata": {},
   "outputs": [],
   "source": [
    "t=Table(names=('zabs','cover'),dtype=(list,list))\n",
    "#help(Table.add_row)\n",
    "t.add_row([[1,1],[1,1]])"
   ]
  },
  {
   "cell_type": "code",
   "execution_count": 77,
   "metadata": {},
   "outputs": [],
   "source": [
    "del final_list"
   ]
  },
  {
   "cell_type": "code",
   "execution_count": null,
   "metadata": {},
   "outputs": [],
   "source": [
    "zlist = [group['ZABS'].data for group in groupedData.groups]"
   ]
  },
  {
   "cell_type": "code",
   "execution_count": 94,
   "metadata": {},
   "outputs": [
    {
     "data": {
      "text/plain": [
       "array([ 1.38195205], dtype=float32)"
      ]
     },
     "execution_count": 94,
     "metadata": {},
     "output_type": "execute_result"
    }
   ],
   "source": [
    "groupedData.groups[0]['ZABS'].data"
   ]
  },
  {
   "cell_type": "code",
   "execution_count": 9,
   "metadata": {},
   "outputs": [
    {
     "data": {
      "text/plain": [
       "ColDefs(\n",
       "    name = 'PLATE'; format = 'J'\n",
       "    name = 'FIBER'; format = 'J'\n",
       "    name = 'ISITCOVERED'; format = '7835B'\n",
       "    name = 'REWMIN_MGII_2796'; format = '7835E'\n",
       "    name = 'REWMIN_MGII_2803'; format = '7835E'\n",
       ")"
      ]
     },
     "execution_count": 9,
     "metadata": {},
     "output_type": "execute_result"
    }
   ],
   "source": [
    "temp = mctables[0]\n",
    "temp.columns"
   ]
  },
  {
   "cell_type": "code",
   "execution_count": null,
   "metadata": {},
   "outputs": [],
   "source": []
  }
 ],
 "metadata": {
  "kernelspec": {
   "display_name": "Python [conda root]",
   "language": "python",
   "name": "conda-root-py"
  },
  "language_info": {
   "codemirror_mode": {
    "name": "ipython",
    "version": 3
   },
   "file_extension": ".py",
   "mimetype": "text/x-python",
   "name": "python",
   "nbconvert_exporter": "python",
   "pygments_lexer": "ipython3",
   "version": "3.5.4"
  }
 },
 "nbformat": 4,
 "nbformat_minor": 2
}
