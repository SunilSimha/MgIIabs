{
 "cells": [
  {
   "cell_type": "markdown",
   "metadata": {},
   "source": [
    "# Counting pairs"
   ]
  },
  {
   "cell_type": "code",
   "execution_count": 9,
   "metadata": {},
   "outputs": [],
   "source": [
    "import os\n",
    "import pdb\n",
    "import numpy as np\n",
    "import astropy.io.fits as fits\n",
    "from astropy.table import Table, unique\n",
    "from MgIIabs.count import getdata \n",
    "import matplotlib.pyplot as plt\n",
    "from scipy.optimize import curve_fit"
   ]
  },
  {
   "cell_type": "code",
   "execution_count": 10,
   "metadata": {},
   "outputs": [],
   "source": [
    "data_folder = os.environ['MGIIDATA']\n",
    "MCdir = \"MC data from G Ben Zhu/\"\n",
    "mcfiles = os.listdir(data_folder+MCdir)[:-1]\n",
    "fullData = getdata.getObsData()"
   ]
  },
  {
   "cell_type": "code",
   "execution_count": 11,
   "metadata": {},
   "outputs": [],
   "source": [
    "minREW = 1\n",
    "truncData = fullData[fullData['REW_MGII_2796'] > minREW]"
   ]
  },
  {
   "cell_type": "code",
   "execution_count": 13,
   "metadata": {},
   "outputs": [],
   "source": [
    "zmin = 0\n",
    "zmax = float('inf')\n",
    "fullData = Table.read(data_folder+'Trimmed_SDSS_DR7_107_NonBAL_NonRpt_SDSSRpt.fits')\n",
    "fullData = fullData[fullData['BAL_FLG']==0]\n",
    "fullData = fullData[(fullData['ZABS']>=zmin)*(fullData['ZABS']<=zmax)]\n",
    "#Filtering out associated absorbers (<5000 km/s away)\n",
    "fullData = fullData[abs(getdata._relVec(fullData['ZABS'],\n",
    "                    fullData['ZQSO']))>(5000/3e5)]\n",
    "truncData = fullData[fullData['REW_MGII_2796'] > minREW]\n",
    "groupedData = truncData.group_by(['PLATE','FIBER','MJD'])\n",
    "uniquePFMJD = groupedData.groups.keys"
   ]
  },
  {
   "cell_type": "code",
   "execution_count": 14,
   "metadata": {},
   "outputs": [],
   "source": [
    "mctables = [fits.open(data_folder+MCdir+file, memmap=True)[1].data for file in mcfiles]"
   ]
  },
  {
   "cell_type": "code",
   "execution_count": 6,
   "metadata": {},
   "outputs": [],
   "source": [
    "zgrid = getdata.getZgrid()\n",
    "zrange = (zgrid>=zmin)*(zgrid<=zmax)"
   ]
  },
  {
   "cell_type": "code",
   "execution_count": 13,
   "metadata": {},
   "outputs": [],
   "source": [
    "grouplengths = [len(group) for group in groupedData.groups]"
   ]
  },
  {
   "cell_type": "code",
   "execution_count": 26,
   "metadata": {},
   "outputs": [
    {
     "data": {
      "text/plain": [
       "2"
      ]
     },
     "execution_count": 26,
     "metadata": {},
     "output_type": "execute_result"
    }
   ],
   "source": [
    "grouplengths = groupedData.groups.indices[1:]-groupedData.groups.indices[:-1]"
   ]
  },
  {
   "cell_type": "code",
   "execution_count": 27,
   "metadata": {
    "collapsed": true
   },
   "outputs": [
    {
     "data": {
      "text/html": [
       "&lt;Table length=3796&gt;\n",
       "<table id=\"table140274708685656\" class=\"table-striped table-bordered table-condensed\">\n",
       "<thead><tr><th>RA</th><th>DEC</th><th>PLATE</th><th>FIBER</th><th>MJD</th><th>ZQSO</th><th>ERR_ZQSO</th><th>INDEX_QSO</th><th>SPEC_SNR_MEDIAN</th><th>MED_SDEVIATION_RED</th><th>MED_SDEVIATION_BLUE</th><th>NABS</th><th>ZABS</th><th>ERR_ZABS</th><th>VDISP</th><th>ERR_VDISP</th><th>CRITERION_MGII</th><th>CRITERION_MGII_FEII</th><th>CRITERION_FEII</th><th>SIGNAL_MGII_2803</th><th>SIGNAL_MGII_2796</th><th>SNR_MGII_2803</th><th>SNR_MGII_2796</th><th>REW_MGI_2853</th><th>ERR_REW_MGI_2853</th><th>REW_MGII_2803</th><th>ERR_REW_MGII_2803</th><th>REW_MGII_2796</th><th>ERR_REW_MGII_2796</th><th>REW_FEII_2600</th><th>ERR_REW_FEII_2600</th><th>REW_FEII_2586</th><th>ERR_REW_FEII_2586</th><th>REW_FEII_2383</th><th>ERR_REW_FEII_2383</th><th>REW_FEII_2374</th><th>ERR_REW_FEII_2374</th><th>REW_FEII_2344</th><th>ERR_REW_FEII_2344</th><th>VDISP_MGI_2853</th><th>ERR_VDISP_MGI_2853</th><th>VDISP_MGII_2803</th><th>ERR_VDISP_MGII_2803</th><th>VDISP_MGII_2796</th><th>ERR_VDISP_MGII_2796</th><th>VDISP_FEII_2600</th><th>ERR_VDISP_FEII_2600</th><th>VDISP_FEII_2586</th><th>ERR_VDISP_FEII_2586</th><th>VDISP_FEII_2383</th><th>ERR_VDISP_FEII_2383</th><th>VDISP_FEII_2374</th><th>ERR_VDISP_FEII_2374</th><th>VDISP_FEII_2344</th><th>ERR_VDISP_FEII_2344</th><th>BAL_FLG</th><th>KS_FLG</th><th>OK_FLG</th><th>EW [40]</th><th>SIGEW [40]</th><th>WREST</th><th>EWFLG</th><th>REPEAT_FLG</th></tr></thead>\n",
       "<thead><tr><th>float32</th><th>float32</th><th>int16</th><th>int16</th><th>int32</th><th>float32</th><th>float32</th><th>int16</th><th>float32</th><th>float32</th><th>float32</th><th>int16</th><th>float32</th><th>float32</th><th>float32</th><th>float32</th><th>int16</th><th>int16</th><th>int16</th><th>float32</th><th>float32</th><th>float32</th><th>float32</th><th>float32</th><th>float32</th><th>float32</th><th>float32</th><th>float32</th><th>float32</th><th>float32</th><th>float32</th><th>float32</th><th>float32</th><th>float32</th><th>float32</th><th>float32</th><th>float32</th><th>float32</th><th>float32</th><th>float32</th><th>float32</th><th>float32</th><th>float32</th><th>float32</th><th>float32</th><th>float32</th><th>float32</th><th>float32</th><th>float32</th><th>float32</th><th>float32</th><th>float32</th><th>float32</th><th>float32</th><th>float32</th><th>int16</th><th>int16</th><th>int16</th><th>float32</th><th>float32</th><th>int16</th><th>int16</th><th>int32</th></tr></thead>\n",
       "<tr><td>147.554</td><td>-0.47753</td><td>267</td><td>264</td><td>51608</td><td>1.8916</td><td>0.002268</td><td>32013</td><td>7.11948</td><td>0.055562</td><td>0.0596509</td><td>2</td><td>1.67369</td><td>4.77607e-05</td><td>89.929</td><td>0.183242</td><td>1</td><td>1</td><td>1</td><td>3.29388</td><td>3.39441</td><td>15.5702</td><td>15.2565</td><td>0.729042</td><td>0.141121</td><td>2.64588</td><td>0.193085</td><td>2.77822</td><td>0.207678</td><td>2.65884</td><td>0.196716</td><td>2.32233</td><td>0.194292</td><td>2.41813</td><td>0.18929</td><td>1.92707</td><td>0.172979</td><td>2.01911</td><td>0.178602</td><td>0.06903</td><td>-0.0</td><td>89.7458</td><td>9.46543</td><td>90.1123</td><td>9.4754</td><td>100.15</td><td>9.93852</td><td>100.927</td><td>9.96615</td><td>95.3323</td><td>11.5533</td><td>95.8404</td><td>11.5726</td><td>77.2936</td><td>14.3554</td><td>0</td><td>1</td><td>1</td><td>0.0 .. 0.0</td><td>0.0 .. 0.0</td><td>2</td><td>1</td><td>0</td></tr>\n",
       "<tr><td>147.554</td><td>-0.47753</td><td>267</td><td>264</td><td>51608</td><td>1.8916</td><td>0.002268</td><td>32013</td><td>7.11948</td><td>0.055562</td><td>0.0596509</td><td>2</td><td>1.78047</td><td>7.7529e-05</td><td>34.4297</td><td>0.221599</td><td>1</td><td>1</td><td>0</td><td>1.35261</td><td>1.92852</td><td>3.35369</td><td>6.9938</td><td>0.66823</td><td>0.337336</td><td>0.951048</td><td>0.269128</td><td>1.28395</td><td>0.201486</td><td>0.517051</td><td>0.139907</td><td>0.252457</td><td>0.128986</td><td>0.761731</td><td>0.17696</td><td>0.301528</td><td>0.176303</td><td>0.808007</td><td>0.272327</td><td>144.579</td><td>111.215</td><td>34.2081</td><td>27.6342</td><td>34.6513</td><td>27.421</td><td>16.9652</td><td>87.8865</td><td>18.4709</td><td>81.5748</td><td>120.744</td><td>41.7366</td><td>121.304</td><td>41.8351</td><td>245.709</td><td>105.321</td><td>0</td><td>1</td><td>1</td><td>0.0 .. 0.0</td><td>0.0 .. 0.0</td><td>1</td><td>1</td><td>0</td></tr>\n",
       "<tr><td>154.15</td><td>0.147506</td><td>271</td><td>391</td><td>51883</td><td>2.30359</td><td>0.00192</td><td>-28430</td><td>17.7862</td><td>0.022049</td><td>0.0178304</td><td>2</td><td>1.41336</td><td>2.78659e-05</td><td>51.374</td><td>0.184795</td><td>1</td><td>1</td><td>1</td><td>1.34464</td><td>1.53008</td><td>18.4146</td><td>17.362</td><td>0.304629</td><td>0.0982625</td><td>0.995147</td><td>0.0618405</td><td>1.08722</td><td>0.0730617</td><td>0.880288</td><td>0.0871593</td><td>0.516151</td><td>0.0875266</td><td>0.923756</td><td>0.106397</td><td>0.379489</td><td>0.0967045</td><td>0.597726</td><td>0.0902302</td><td>83.24</td><td>52.9177</td><td>51.1892</td><td>8.43547</td><td>51.5588</td><td>8.41806</td><td>38.2317</td><td>17.6566</td><td>39.0821</td><td>17.4548</td><td>48.4625</td><td>18.9278</td><td>48.9744</td><td>18.8613</td><td>0.06903</td><td>9957.07</td><td>0</td><td>1</td><td>1</td><td>0.0 .. 0.0</td><td>0.0 .. 0.0</td><td>1</td><td>1</td><td>2</td></tr>\n",
       "<tr><td>154.15</td><td>0.147506</td><td>271</td><td>391</td><td>51883</td><td>2.30359</td><td>0.00192</td><td>-28430</td><td>17.7862</td><td>0.022049</td><td>0.0178304</td><td>2</td><td>1.13673</td><td>1.33146e-05</td><td>85.3328</td><td>0.181008</td><td>1</td><td>1</td><td>0</td><td>1.65842</td><td>1.8483</td><td>17.0526</td><td>18.0738</td><td>0.178528</td><td>0.148062</td><td>1.33884</td><td>0.115412</td><td>1.50917</td><td>0.122157</td><td>0.332393</td><td>0.107774</td><td>0.079746</td><td>0.0940139</td><td>0.828057</td><td>0.173048</td><td>0.854008</td><td>0.16775</td><td>0.393759</td><td>0.223755</td><td>100.21</td><td>141.433</td><td>85.1517</td><td>10.7601</td><td>85.5138</td><td>10.7697</td><td>0.06903</td><td>24421.8</td><td>0.06903</td><td>24679.7</td><td>142.144</td><td>30.3944</td><td>142.758</td><td>30.4757</td><td>223.818</td><td>162.175</td><td>0</td><td>1</td><td>1</td><td>0.0 .. 0.0</td><td>0.0 .. 0.0</td><td>1</td><td>1</td><td>2</td></tr>\n",
       "<tr><td>155.531</td><td>0.800132</td><td>271</td><td>603</td><td>51883</td><td>2.11045</td><td>0.002514</td><td>-27504</td><td>8.25319</td><td>0.0484033</td><td>0.0517319</td><td>4</td><td>0.988292</td><td>7.12014e-06</td><td>51.5366</td><td>0.184629</td><td>1</td><td>1</td><td>0</td><td>2.44774</td><td>2.41867</td><td>9.73048</td><td>11.0648</td><td>0.364089</td><td>0.217633</td><td>1.67957</td><td>0.233191</td><td>1.87243</td><td>0.225247</td><td>1.09615</td><td>0.190735</td><td>0.425208</td><td>0.176969</td><td>0.955471</td><td>0.257256</td><td>0.374156</td><td>0.235063</td><td>0.325162</td><td>0.172293</td><td>0.06903</td><td>22625.0</td><td>51.352</td><td>17.3426</td><td>51.7212</td><td>17.3073</td><td>0.06903</td><td>11254.4</td><td>0.06903</td><td>11373.2</td><td>34.9314</td><td>51.6482</td><td>35.527</td><td>51.1383</td><td>0.06903</td><td>-0.0</td><td>0</td><td>0</td><td>1</td><td>0.0 .. 0.0</td><td>0.0 .. 0.0</td><td>1</td><td>1</td><td>0</td></tr>\n",
       "<tr><td>155.531</td><td>0.800132</td><td>271</td><td>603</td><td>51883</td><td>2.11045</td><td>0.002514</td><td>-27504</td><td>8.25319</td><td>0.0484033</td><td>0.0517319</td><td>4</td><td>1.85938</td><td>3.5838e-05</td><td>0.06903</td><td>0.0</td><td>1</td><td>0</td><td>0</td><td>2.07572</td><td>1.96114</td><td>8.2483</td><td>4.75349</td><td>0.359746</td><td>0.259938</td><td>1.34445</td><td>0.174237</td><td>1.04144</td><td>0.268475</td><td>0.163024</td><td>0.0861104</td><td>0.0517462</td><td>0.102348</td><td>0.104579</td><td>0.0735152</td><td>0.151028</td><td>0.0800287</td><td>0.140614</td><td>0.0981532</td><td>151.692</td><td>152.518</td><td>0.06903</td><td>5355.87</td><td>0.06903</td><td>5383.41</td><td>0.06903</td><td>-0.0</td><td>0.06903</td><td>-0.0</td><td>0.06903</td><td>17104.3</td><td>0.06903</td><td>17224.2</td><td>0.06903</td><td>36411.0</td><td>0</td><td>0</td><td>1</td><td>0.0 .. 0.0</td><td>0.0 .. 0.0</td><td>1</td><td>1</td><td>0</td></tr>\n",
       "<tr><td>155.341</td><td>-0.578448</td><td>272</td><td>265</td><td>51941</td><td>2.07183</td><td>0.002116</td><td>-27613</td><td>12.086</td><td>0.0198648</td><td>0.0363873</td><td>3</td><td>1.50412</td><td>8.64553e-05</td><td>42.3491</td><td>0.198568</td><td>1</td><td>1</td><td>1</td><td>1.66755</td><td>1.74605</td><td>16.5099</td><td>16.6533</td><td>0.248783</td><td>0.126759</td><td>1.16612</td><td>0.0745974</td><td>1.22171</td><td>0.0782432</td><td>0.614423</td><td>0.0798252</td><td>0.335435</td><td>0.0715619</td><td>0.612008</td><td>0.125707</td><td>0.124125</td><td>0.113064</td><td>0.288404</td><td>0.173486</td><td>137.363</td><td>100.906</td><td>42.1505</td><td>9.22445</td><td>42.5477</td><td>9.18534</td><td>13.1254</td><td>53.0866</td><td>14.9804</td><td>47.0043</td><td>31.7557</td><td>42.9439</td><td>32.3869</td><td>42.4023</td><td>54.7251</td><td>98.7463</td><td>0</td><td>0</td><td>1</td><td>0.0 .. 0.0</td><td>0.0 .. 0.0</td><td>1</td><td>1</td><td>0</td></tr>\n",
       "<tr><td>155.341</td><td>-0.578448</td><td>272</td><td>265</td><td>51941</td><td>2.07183</td><td>0.002116</td><td>-27613</td><td>12.086</td><td>0.0198648</td><td>0.0363873</td><td>3</td><td>0.944146</td><td>2.14509e-05</td><td>49.886</td><td>0.186435</td><td>1</td><td>1</td><td>1</td><td>1.57567</td><td>1.90465</td><td>10.2805</td><td>13.2002</td><td>0.172509</td><td>0.156402</td><td>1.19669</td><td>0.142382</td><td>1.34473</td><td>0.140491</td><td>1.01025</td><td>0.174128</td><td>0.278452</td><td>0.147945</td><td>0.973932</td><td>0.185243</td><td>0.22961</td><td>0.160101</td><td>0.569951</td><td>0.188965</td><td>14.0684</td><td>372.468</td><td>49.6996</td><td>14.9262</td><td>50.0725</td><td>14.8913</td><td>67.6191</td><td>27.1808</td><td>68.3443</td><td>27.1764</td><td>51.2791</td><td>31.6282</td><td>51.7822</td><td>31.5405</td><td>42.009</td><td>60.0192</td><td>0</td><td>1</td><td>1</td><td>0.0 .. 0.0</td><td>0.0 .. 0.0</td><td>1</td><td>1</td><td>0</td></tr>\n",
       "<tr><td>155.341</td><td>-0.578448</td><td>272</td><td>265</td><td>51941</td><td>2.07183</td><td>0.002116</td><td>-27613</td><td>12.086</td><td>0.0198648</td><td>0.0363873</td><td>3</td><td>1.95846</td><td>7.27555e-06</td><td>46.9482</td><td>0.190332</td><td>1</td><td>1</td><td>1</td><td>0.878552</td><td>2.09632</td><td>3.25968</td><td>13.6092</td><td>0.370544</td><td>0.130206</td><td>0.984389</td><td>0.197294</td><td>1.4992</td><td>0.105457</td><td>0.825845</td><td>0.0848812</td><td>0.440041</td><td>0.0879113</td><td>0.675285</td><td>0.0704505</td><td>1.02536</td><td>0.0693849</td><td>0.343359</td><td>0.0617005</td><td>0.06903</td><td>26103.7</td><td>46.7578</td><td>11.8904</td><td>47.1385</td><td>11.855</td><td>42.3741</td><td>17.4831</td><td>43.1838</td><td>17.3365</td><td>51.4419</td><td>10.3718</td><td>51.9446</td><td>10.3434</td><td>0.06903</td><td>11020.4</td><td>0</td><td>0</td><td>1</td><td>0.0 .. 0.0</td><td>0.0 .. 0.0</td><td>1</td><td>1</td><td>0</td></tr>\n",
       "<tr><td>158.937</td><td>-0.490215</td><td>273</td><td>69</td><td>51957</td><td>2.07546</td><td>0.00248</td><td>-25127</td><td>5.67996</td><td>0.035054</td><td>0.122246</td><td>2</td><td>1.78454</td><td>0.000118571</td><td>36.9045</td><td>0.212872</td><td>1</td><td>1</td><td>1</td><td>1.83679</td><td>2.22971</td><td>8.41492</td><td>9.17365</td><td>0.660624</td><td>0.188716</td><td>1.40536</td><td>0.175716</td><td>1.54223</td><td>0.184416</td><td>1.39962</td><td>0.216918</td><td>0.994405</td><td>0.140632</td><td>1.26729</td><td>0.153199</td><td>1.09724</td><td>0.141291</td><td>1.19396</td><td>0.142658</td><td>18.5581</td><td>92.0165</td><td>36.6916</td><td>18.7668</td><td>37.1173</td><td>18.647</td><td>53.012</td><td>18.5542</td><td>53.7611</td><td>18.4888</td><td>64.262</td><td>15.9691</td><td>64.7454</td><td>15.961</td><td>38.188</td><td>22.8567</td><td>0</td><td>1</td><td>1</td><td>0.0 .. 0.0</td><td>0.0 .. 0.0</td><td>1</td><td>1</td><td>0</td></tr>\n",
       "<tr><td>...</td><td>...</td><td>...</td><td>...</td><td>...</td><td>...</td><td>...</td><td>...</td><td>...</td><td>...</td><td>...</td><td>...</td><td>...</td><td>...</td><td>...</td><td>...</td><td>...</td><td>...</td><td>...</td><td>...</td><td>...</td><td>...</td><td>...</td><td>...</td><td>...</td><td>...</td><td>...</td><td>...</td><td>...</td><td>...</td><td>...</td><td>...</td><td>...</td><td>...</td><td>...</td><td>...</td><td>...</td><td>...</td><td>...</td><td>...</td><td>...</td><td>...</td><td>...</td><td>...</td><td>...</td><td>...</td><td>...</td><td>...</td><td>...</td><td>...</td><td>...</td><td>...</td><td>...</td><td>...</td><td>...</td><td>...</td><td>...</td><td>...</td><td>...</td><td>...</td><td>...</td><td>...</td><td>...</td></tr>\n",
       "<tr><td>244.108</td><td>17.5541</td><td>2968</td><td>19</td><td>54585</td><td>3.35765</td><td>0.004162</td><td>29722</td><td>8.66764</td><td>0.0389504</td><td>0.0285241</td><td>2</td><td>1.60412</td><td>1.18648e-05</td><td>47.5921</td><td>0.189397</td><td>1</td><td>1</td><td>0</td><td>1.27898</td><td>2.5414</td><td>7.85494</td><td>12.5567</td><td>0.222938</td><td>0.0963082</td><td>0.996732</td><td>0.0947632</td><td>1.89228</td><td>0.149094</td><td>0.415644</td><td>0.0943748</td><td>0.147202</td><td>0.0890495</td><td>0.549062</td><td>0.111832</td><td>0.312167</td><td>0.0942889</td><td>1.94741</td><td>3.40223</td><td>0.06903</td><td>26335.6</td><td>47.4027</td><td>11.3459</td><td>47.7815</td><td>11.3139</td><td>9.73416</td><td>128.495</td><td>12.0859</td><td>104.584</td><td>19.04</td><td>56.9514</td><td>19.9618</td><td>54.7023</td><td>1283.39</td><td>2437.42</td><td>0</td><td>1</td><td>1</td><td>0.0 .. 0.0</td><td>0.0 .. 0.0</td><td>1</td><td>1</td><td>2</td></tr>\n",
       "<tr><td>244.108</td><td>17.5541</td><td>2968</td><td>19</td><td>54585</td><td>3.35765</td><td>0.004162</td><td>29722</td><td>8.66764</td><td>0.0389504</td><td>0.0285241</td><td>2</td><td>2.14235</td><td>7.38275e-05</td><td>129.623</td><td>0.213332</td><td>1</td><td>1</td><td>0</td><td>0.746593</td><td>2.1615</td><td>2.20965</td><td>5.85649</td><td>0.618252</td><td>0.135546</td><td>0.872175</td><td>0.193648</td><td>1.8431</td><td>0.297486</td><td>0.546932</td><td>0.198005</td><td>0.413445</td><td>0.179868</td><td>0.295686</td><td>0.0707446</td><td>0.131865</td><td>0.0570127</td><td>0.129332</td><td>0.0849934</td><td>0.06903</td><td>-0.0</td><td>129.41</td><td>28.0079</td><td>129.837</td><td>28.0594</td><td>258.215</td><td>94.609</td><td>259.671</td><td>95.0717</td><td>0.06903</td><td>8107.28</td><td>0.06903</td><td>8164.13</td><td>0.06903</td><td>41929.1</td><td>0</td><td>0</td><td>1</td><td>0.0 .. 0.0</td><td>0.0 .. 0.0</td><td>1</td><td>1</td><td>2</td></tr>\n",
       "<tr><td>242.151</td><td>17.6181</td><td>2968</td><td>297</td><td>54585</td><td>1.62969</td><td>0.001797</td><td>28649</td><td>7.80015</td><td>0.03828</td><td>0.023103</td><td>2</td><td>0.966415</td><td>5.60736e-05</td><td>42.4268</td><td>0.198404</td><td>1</td><td>1</td><td>1</td><td>2.23379</td><td>2.75515</td><td>10.1268</td><td>13.1929</td><td>0.311172</td><td>0.134598</td><td>1.551</td><td>0.184627</td><td>1.91851</td><td>0.186892</td><td>0.95128</td><td>0.202531</td><td>0.505914</td><td>0.19349</td><td>0.84925</td><td>0.243177</td><td>0.474679</td><td>0.223852</td><td>0.481618</td><td>0.277695</td><td>0.06903</td><td>-0.0</td><td>42.2284</td><td>15.3346</td><td>42.6252</td><td>15.27</td><td>27.6998</td><td>46.487</td><td>28.7349</td><td>45.2856</td><td>37.8031</td><td>50.302</td><td>38.3733</td><td>49.9021</td><td>57.2287</td><td>94.5373</td><td>0</td><td>1</td><td>1</td><td>0.0 .. 0.0</td><td>0.0 .. 0.0</td><td>1</td><td>1</td><td>0</td></tr>\n",
       "<tr><td>242.151</td><td>17.6181</td><td>2968</td><td>297</td><td>54585</td><td>1.62969</td><td>0.001797</td><td>28649</td><td>7.80015</td><td>0.03828</td><td>0.023103</td><td>2</td><td>1.0747</td><td>0.000331165</td><td>25.6395</td><td>0.271168</td><td>1</td><td>1</td><td>1</td><td>1.01478</td><td>1.51468</td><td>3.16197</td><td>5.01399</td><td>1.01157</td><td>0.681353</td><td>0.650736</td><td>0.212578</td><td>1.00956</td><td>0.221611</td><td>0.605225</td><td>0.188696</td><td>0.525826</td><td>0.181463</td><td>0.418056</td><td>0.194406</td><td>4.81854e-11</td><td>-0.0</td><td>0.448583</td><td>0.210646</td><td>468.752</td><td>398.265</td><td>25.3683</td><td>49.328</td><td>25.9107</td><td>48.5439</td><td>38.477</td><td>48.0148</td><td>39.3246</td><td>47.4759</td><td>0.06903</td><td>28973.7</td><td>0.06903</td><td>29176.8</td><td>0.06903</td><td>30563.4</td><td>0</td><td>0</td><td>1</td><td>0.0 .. 0.0</td><td>0.0 .. 0.0</td><td>1</td><td>1</td><td>0</td></tr>\n",
       "<tr><td>243.836</td><td>18.5452</td><td>2968</td><td>560</td><td>54585</td><td>2.11593</td><td>0.002489</td><td>29567</td><td>11.9118</td><td>0.0260901</td><td>0.0191246</td><td>3</td><td>1.06248</td><td>1.996e-05</td><td>55.4359</td><td>0.181289</td><td>1</td><td>1</td><td>0</td><td>2.10651</td><td>2.27284</td><td>15.8173</td><td>16.3095</td><td>0.123055</td><td>0.191831</td><td>1.58658</td><td>0.17714</td><td>1.56547</td><td>0.181732</td><td>1.19917</td><td>0.164727</td><td>0.895694</td><td>0.161497</td><td>1.01323</td><td>0.188572</td><td>0.424486</td><td>0.163848</td><td>0.830539</td><td>0.204742</td><td>0.06903</td><td>101751.0</td><td>55.2546</td><td>15.0943</td><td>55.6172</td><td>15.073</td><td>47.4361</td><td>20.9736</td><td>48.2106</td><td>20.8546</td><td>26.5273</td><td>42.1845</td><td>27.2405</td><td>41.3681</td><td>49.9066</td><td>41.9848</td><td>0</td><td>1</td><td>1</td><td>0.0 .. 0.0</td><td>0.0 .. 0.0</td><td>1</td><td>1</td><td>0</td></tr>\n",
       "<tr><td>243.836</td><td>18.5452</td><td>2968</td><td>560</td><td>54585</td><td>2.11593</td><td>0.002489</td><td>29567</td><td>11.9118</td><td>0.0260901</td><td>0.0191246</td><td>3</td><td>1.37051</td><td>3.13476e-05</td><td>94.3196</td><td>0.185709</td><td>1</td><td>1</td><td>1</td><td>1.49773</td><td>1.48272</td><td>13.0301</td><td>12.1854</td><td>0.0556622</td><td>0.0608257</td><td>1.23418</td><td>0.113431</td><td>1.29012</td><td>0.117942</td><td>0.351094</td><td>0.116408</td><td>0.270784</td><td>0.104139</td><td>0.675045</td><td>0.188634</td><td>0.12749</td><td>0.154574</td><td>0.236626</td><td>0.139929</td><td>0.06903</td><td>-0.0</td><td>94.1339</td><td>12.1324</td><td>94.5053</td><td>12.1469</td><td>0.06903</td><td>20310.9</td><td>0.06903</td><td>20525.4</td><td>85.4515</td><td>45.2631</td><td>85.9452</td><td>45.3186</td><td>0.06903</td><td>33776.1</td><td>0</td><td>0</td><td>1</td><td>0.0 .. 0.0</td><td>0.0 .. 0.0</td><td>1</td><td>1</td><td>0</td></tr>\n",
       "<tr><td>257.466</td><td>35.6476</td><td>2972</td><td>479</td><td>54586</td><td>2.04307</td><td>0.002222</td><td>-31095</td><td>11.9981</td><td>0.0269483</td><td>0.0184677</td><td>2</td><td>1.3764</td><td>3.11993e-05</td><td>118.33</td><td>0.20335</td><td>1</td><td>1</td><td>1</td><td>1.63262</td><td>2.03245</td><td>15.1474</td><td>19.2527</td><td>0.163504</td><td>0.134359</td><td>1.56757</td><td>0.10727</td><td>1.85547</td><td>0.112221</td><td>0.773678</td><td>0.153935</td><td>0.341919</td><td>0.131284</td><td>0.92998</td><td>0.230947</td><td>4.20686e-11</td><td>0.180768</td><td>0.272451</td><td>0.140739</td><td>116.324</td><td>148.602</td><td>118.127</td><td>9.39399</td><td>118.533</td><td>9.40989</td><td>86.0083</td><td>30.3908</td><td>86.7517</td><td>30.4486</td><td>148.393</td><td>52.7687</td><td>149.024</td><td>52.9135</td><td>20.632</td><td>151.411</td><td>0</td><td>1</td><td>1</td><td>0.0 .. 0.0</td><td>0.0 .. 0.0</td><td>1</td><td>1</td><td>2</td></tr>\n",
       "<tr><td>257.466</td><td>35.6476</td><td>2972</td><td>479</td><td>54586</td><td>2.04307</td><td>0.002222</td><td>-31095</td><td>11.9981</td><td>0.0269483</td><td>0.0184677</td><td>2</td><td>1.87233</td><td>0.000254216</td><td>170.12</td><td>0.254034</td><td>1</td><td>1</td><td>0</td><td>1.36882</td><td>2.07264</td><td>5.75281</td><td>7.05248</td><td>0.113897</td><td>0.0864552</td><td>1.68531</td><td>0.18613</td><td>1.71933</td><td>0.218752</td><td>0.294862</td><td>0.0920236</td><td>0.19199</td><td>0.0774354</td><td>0.54323</td><td>0.101327</td><td>3.4812e-11</td><td>0.0055396</td><td>0.185982</td><td>0.0759137</td><td>0.06903</td><td>-0.0</td><td>169.866</td><td>17.9063</td><td>170.374</td><td>17.9447</td><td>0.06903</td><td>15745.8</td><td>0.06903</td><td>15912.1</td><td>57.8189</td><td>30.6521</td><td>58.3085</td><td>30.6079</td><td>0.06903</td><td>25620.7</td><td>0</td><td>0</td><td>1</td><td>0.0 .. 0.0</td><td>0.0 .. 0.0</td><td>1</td><td>1</td><td>2</td></tr>\n",
       "<tr><td>259.191</td><td>32.0861</td><td>2973</td><td>204</td><td>54591</td><td>1.70424</td><td>0.001952</td><td>-30766</td><td>4.587</td><td>0.0618375</td><td>0.151969</td><td>2</td><td>0.511032</td><td>9.799e-05</td><td>94.041</td><td>0.185544</td><td>1</td><td>0</td><td>0</td><td>2.8882</td><td>2.15116</td><td>7.39853</td><td>6.23352</td><td>0.838808</td><td>0.427527</td><td>2.43132</td><td>0.590045</td><td>2.42497</td><td>0.689358</td><td>6.61564e-11</td><td>-0.0</td><td>0.0193463</td><td>3.56826e+07</td><td>0.0</td><td>0.0</td><td>0.0</td><td>0.0</td><td>0.0</td><td>0.0</td><td>0.06903</td><td>24411.7</td><td>93.8554</td><td>32.9579</td><td>94.2265</td><td>32.9969</td><td>0.06903</td><td>1.72056e+14</td><td>0.06903</td><td>1.73873e+14</td><td>0.0</td><td>0.0</td><td>0.0</td><td>0.0</td><td>0.0</td><td>0.0</td><td>0</td><td>1</td><td>1</td><td>0.0 .. 0.0</td><td>0.0 .. 0.0</td><td>2</td><td>1</td><td>0</td></tr>\n",
       "<tr><td>259.191</td><td>32.0861</td><td>2973</td><td>204</td><td>54591</td><td>1.70424</td><td>0.001952</td><td>-30766</td><td>4.587</td><td>0.0618375</td><td>0.151969</td><td>2</td><td>0.825386</td><td>2.30629e-06</td><td>24.7648</td><td>0.278463</td><td>1</td><td>0</td><td>0</td><td>1.15333</td><td>1.48107</td><td>4.59206</td><td>5.20273</td><td>0.00206546</td><td>0.207647</td><td>0.779569</td><td>0.281073</td><td>1.04119</td><td>0.315703</td><td>5.47774e-11</td><td>-0.0</td><td>0.223374</td><td>0.226805</td><td>0.339488</td><td>0.259184</td><td>0.130844</td><td>0.259465</td><td>0.597996</td><td>1.50345</td><td>0.06903</td><td>9.95027e+06</td><td>24.4864</td><td>65.0533</td><td>25.0433</td><td>63.9337</td><td>0.06903</td><td>-0.0</td><td>0.06903</td><td>-0.0</td><td>0.06903</td><td>-0.0</td><td>0.06903</td><td>-0.0</td><td>524.89</td><td>1656.42</td><td>0</td><td>1</td><td>1</td><td>0.0 .. 0.0</td><td>0.0 .. 0.0</td><td>1</td><td>1</td><td>0</td></tr>\n",
       "</table>"
      ],
      "text/plain": [
       "<Table length=3796>\n",
       "   RA      DEC    PLATE FIBER  MJD  ... SIGEW [40] WREST EWFLG REPEAT_FLG\n",
       "float32  float32  int16 int16 int32 ...  float32   int16 int16   int32   \n",
       "------- --------- ----- ----- ----- ... ---------- ----- ----- ----------\n",
       "147.554  -0.47753   267   264 51608 ... 0.0 .. 0.0     2     1          0\n",
       "147.554  -0.47753   267   264 51608 ... 0.0 .. 0.0     1     1          0\n",
       " 154.15  0.147506   271   391 51883 ... 0.0 .. 0.0     1     1          2\n",
       " 154.15  0.147506   271   391 51883 ... 0.0 .. 0.0     1     1          2\n",
       "155.531  0.800132   271   603 51883 ... 0.0 .. 0.0     1     1          0\n",
       "155.531  0.800132   271   603 51883 ... 0.0 .. 0.0     1     1          0\n",
       "155.341 -0.578448   272   265 51941 ... 0.0 .. 0.0     1     1          0\n",
       "155.341 -0.578448   272   265 51941 ... 0.0 .. 0.0     1     1          0\n",
       "155.341 -0.578448   272   265 51941 ... 0.0 .. 0.0     1     1          0\n",
       "158.937 -0.490215   273    69 51957 ... 0.0 .. 0.0     1     1          0\n",
       "    ...       ...   ...   ...   ... ...        ...   ...   ...        ...\n",
       "244.108   17.5541  2968    19 54585 ... 0.0 .. 0.0     1     1          2\n",
       "244.108   17.5541  2968    19 54585 ... 0.0 .. 0.0     1     1          2\n",
       "242.151   17.6181  2968   297 54585 ... 0.0 .. 0.0     1     1          0\n",
       "242.151   17.6181  2968   297 54585 ... 0.0 .. 0.0     1     1          0\n",
       "243.836   18.5452  2968   560 54585 ... 0.0 .. 0.0     1     1          0\n",
       "243.836   18.5452  2968   560 54585 ... 0.0 .. 0.0     1     1          0\n",
       "257.466   35.6476  2972   479 54586 ... 0.0 .. 0.0     1     1          2\n",
       "257.466   35.6476  2972   479 54586 ... 0.0 .. 0.0     1     1          2\n",
       "259.191   32.0861  2973   204 54591 ... 0.0 .. 0.0     2     1          0\n",
       "259.191   32.0861  2973   204 54591 ... 0.0 .. 0.0     1     1          0"
      ]
     },
     "execution_count": 27,
     "metadata": {},
     "output_type": "execute_result"
    }
   ],
   "source": [
    "groupedData.groups[grouplengths>1]"
   ]
  },
  {
   "cell_type": "code",
   "execution_count": 31,
   "metadata": {
    "scrolled": true
   },
   "outputs": [
    {
     "name": "stdout",
     "output_type": "stream",
     "text": [
      "> <ipython-input-31-68da3eb422d3>(5)<module>()\n",
      "-> for group in groupedData.groups:\n",
      "(Pdb) pairs\n",
      "[(1.6736912, 1.7804674)]\n",
      "(Pdb) c\n",
      "> <ipython-input-31-68da3eb422d3>(5)<module>()\n",
      "-> for group in groupedData.groups:\n",
      "(Pdb) pairs\n",
      "[(1.6736912, 1.7804674), (1.4133555, 1.1367333)]\n",
      "(Pdb) c\n",
      "> <ipython-input-31-68da3eb422d3>(5)<module>()\n",
      "-> for group in groupedData.groups:\n",
      "(Pdb) pairs\n",
      "[(1.6736912, 1.7804674), (1.4133555, 1.1367333), (0.98829216, 1.8593823)]\n",
      "(Pdb) c\n",
      "> <ipython-input-31-68da3eb422d3>(5)<module>()\n",
      "-> for group in groupedData.groups:\n",
      "(Pdb) pairs\n",
      "[(1.6736912, 1.7804674), (1.4133555, 1.1367333), (0.98829216, 1.8593823), (1.504118, 0.94414639), (1.504118, 1.9584594), (0.94414639, 1.9584594)]\n",
      "(Pdb) q\n"
     ]
    },
    {
     "ename": "BdbQuit",
     "evalue": "",
     "output_type": "error",
     "traceback": [
      "\u001b[0;31m---------------------------------------------------------------------------\u001b[0m",
      "\u001b[0;31mBdbQuit\u001b[0m                                   Traceback (most recent call last)",
      "\u001b[0;32m<ipython-input-31-68da3eb422d3>\u001b[0m in \u001b[0;36m<module>\u001b[0;34m()\u001b[0m\n\u001b[1;32m      3\u001b[0m \u001b[0;34m\u001b[0m\u001b[0m\n\u001b[1;32m      4\u001b[0m \u001b[0mpairs\u001b[0m \u001b[0;34m=\u001b[0m \u001b[0;34m[\u001b[0m\u001b[0;34m]\u001b[0m\u001b[0;34m\u001b[0m\u001b[0m\n\u001b[0;32m----> 5\u001b[0;31m \u001b[0;32mfor\u001b[0m \u001b[0mgroup\u001b[0m \u001b[0;32min\u001b[0m \u001b[0mgroupedData\u001b[0m\u001b[0;34m.\u001b[0m\u001b[0mgroups\u001b[0m\u001b[0;34m:\u001b[0m\u001b[0;34m\u001b[0m\u001b[0m\n\u001b[0m\u001b[1;32m      6\u001b[0m     \u001b[0mzlist\u001b[0m \u001b[0;34m=\u001b[0m \u001b[0mgroup\u001b[0m\u001b[0;34m[\u001b[0m\u001b[0;34m'ZABS'\u001b[0m\u001b[0;34m]\u001b[0m\u001b[0;34m\u001b[0m\u001b[0m\n\u001b[1;32m      7\u001b[0m     \u001b[0;32mif\u001b[0m \u001b[0mlen\u001b[0m\u001b[0;34m(\u001b[0m\u001b[0mzlist\u001b[0m\u001b[0;34m)\u001b[0m\u001b[0;34m>\u001b[0m\u001b[0;36m1\u001b[0m\u001b[0;34m:\u001b[0m\u001b[0;34m\u001b[0m\u001b[0m\n",
      "\u001b[0;32m<ipython-input-31-68da3eb422d3>\u001b[0m in \u001b[0;36m<module>\u001b[0;34m()\u001b[0m\n\u001b[1;32m      3\u001b[0m \u001b[0;34m\u001b[0m\u001b[0m\n\u001b[1;32m      4\u001b[0m \u001b[0mpairs\u001b[0m \u001b[0;34m=\u001b[0m \u001b[0;34m[\u001b[0m\u001b[0;34m]\u001b[0m\u001b[0;34m\u001b[0m\u001b[0m\n\u001b[0;32m----> 5\u001b[0;31m \u001b[0;32mfor\u001b[0m \u001b[0mgroup\u001b[0m \u001b[0;32min\u001b[0m \u001b[0mgroupedData\u001b[0m\u001b[0;34m.\u001b[0m\u001b[0mgroups\u001b[0m\u001b[0;34m:\u001b[0m\u001b[0;34m\u001b[0m\u001b[0m\n\u001b[0m\u001b[1;32m      6\u001b[0m     \u001b[0mzlist\u001b[0m \u001b[0;34m=\u001b[0m \u001b[0mgroup\u001b[0m\u001b[0;34m[\u001b[0m\u001b[0;34m'ZABS'\u001b[0m\u001b[0;34m]\u001b[0m\u001b[0;34m\u001b[0m\u001b[0m\n\u001b[1;32m      7\u001b[0m     \u001b[0;32mif\u001b[0m \u001b[0mlen\u001b[0m\u001b[0;34m(\u001b[0m\u001b[0mzlist\u001b[0m\u001b[0;34m)\u001b[0m\u001b[0;34m>\u001b[0m\u001b[0;36m1\u001b[0m\u001b[0;34m:\u001b[0m\u001b[0;34m\u001b[0m\u001b[0m\n",
      "\u001b[0;32m~/anaconda3/lib/python3.5/bdb.py\u001b[0m in \u001b[0;36mtrace_dispatch\u001b[0;34m(self, frame, event, arg)\u001b[0m\n\u001b[1;32m     46\u001b[0m             \u001b[0;32mreturn\u001b[0m \u001b[0;31m# None\u001b[0m\u001b[0;34m\u001b[0m\u001b[0m\n\u001b[1;32m     47\u001b[0m         \u001b[0;32mif\u001b[0m \u001b[0mevent\u001b[0m \u001b[0;34m==\u001b[0m \u001b[0;34m'line'\u001b[0m\u001b[0;34m:\u001b[0m\u001b[0;34m\u001b[0m\u001b[0m\n\u001b[0;32m---> 48\u001b[0;31m             \u001b[0;32mreturn\u001b[0m \u001b[0mself\u001b[0m\u001b[0;34m.\u001b[0m\u001b[0mdispatch_line\u001b[0m\u001b[0;34m(\u001b[0m\u001b[0mframe\u001b[0m\u001b[0;34m)\u001b[0m\u001b[0;34m\u001b[0m\u001b[0m\n\u001b[0m\u001b[1;32m     49\u001b[0m         \u001b[0;32mif\u001b[0m \u001b[0mevent\u001b[0m \u001b[0;34m==\u001b[0m \u001b[0;34m'call'\u001b[0m\u001b[0;34m:\u001b[0m\u001b[0;34m\u001b[0m\u001b[0m\n\u001b[1;32m     50\u001b[0m             \u001b[0;32mreturn\u001b[0m \u001b[0mself\u001b[0m\u001b[0;34m.\u001b[0m\u001b[0mdispatch_call\u001b[0m\u001b[0;34m(\u001b[0m\u001b[0mframe\u001b[0m\u001b[0;34m,\u001b[0m \u001b[0marg\u001b[0m\u001b[0;34m)\u001b[0m\u001b[0;34m\u001b[0m\u001b[0m\n",
      "\u001b[0;32m~/anaconda3/lib/python3.5/bdb.py\u001b[0m in \u001b[0;36mdispatch_line\u001b[0;34m(self, frame)\u001b[0m\n\u001b[1;32m     65\u001b[0m         \u001b[0;32mif\u001b[0m \u001b[0mself\u001b[0m\u001b[0;34m.\u001b[0m\u001b[0mstop_here\u001b[0m\u001b[0;34m(\u001b[0m\u001b[0mframe\u001b[0m\u001b[0;34m)\u001b[0m \u001b[0;32mor\u001b[0m \u001b[0mself\u001b[0m\u001b[0;34m.\u001b[0m\u001b[0mbreak_here\u001b[0m\u001b[0;34m(\u001b[0m\u001b[0mframe\u001b[0m\u001b[0;34m)\u001b[0m\u001b[0;34m:\u001b[0m\u001b[0;34m\u001b[0m\u001b[0m\n\u001b[1;32m     66\u001b[0m             \u001b[0mself\u001b[0m\u001b[0;34m.\u001b[0m\u001b[0muser_line\u001b[0m\u001b[0;34m(\u001b[0m\u001b[0mframe\u001b[0m\u001b[0;34m)\u001b[0m\u001b[0;34m\u001b[0m\u001b[0m\n\u001b[0;32m---> 67\u001b[0;31m             \u001b[0;32mif\u001b[0m \u001b[0mself\u001b[0m\u001b[0;34m.\u001b[0m\u001b[0mquitting\u001b[0m\u001b[0;34m:\u001b[0m \u001b[0;32mraise\u001b[0m \u001b[0mBdbQuit\u001b[0m\u001b[0;34m\u001b[0m\u001b[0m\n\u001b[0m\u001b[1;32m     68\u001b[0m         \u001b[0;32mreturn\u001b[0m \u001b[0mself\u001b[0m\u001b[0;34m.\u001b[0m\u001b[0mtrace_dispatch\u001b[0m\u001b[0;34m\u001b[0m\u001b[0m\n\u001b[1;32m     69\u001b[0m \u001b[0;34m\u001b[0m\u001b[0m\n",
      "\u001b[0;31mBdbQuit\u001b[0m: "
     ]
    }
   ],
   "source": [
    "from itertools import combinations as combos\n",
    "from itertools import chain\n",
    "\n",
    "pairs = []\n",
    "for group in groupedData.groups:\n",
    "    zlist = group['ZABS']\n",
    "    if len(zlist)>1:\n",
    "        pairs += list(combos(zlist,2))\n",
    "        pdb.set_trace()"
   ]
  },
  {
   "cell_type": "code",
   "execution_count": 14,
   "metadata": {},
   "outputs": [
    {
     "ename": "KeyboardInterrupt",
     "evalue": "",
     "output_type": "error",
     "traceback": [
      "\u001b[0;31m---------------------------------------------------------------------------\u001b[0m",
      "\u001b[0;31mKeyboardInterrupt\u001b[0m                         Traceback (most recent call last)",
      "\u001b[0;32m<ipython-input-14-b4b61d9ff7a2>\u001b[0m in \u001b[0;36m<module>\u001b[0;34m()\u001b[0m\n\u001b[1;32m      8\u001b[0m \u001b[0;32mfor\u001b[0m \u001b[0mpfmjd\u001b[0m\u001b[0;34m,\u001b[0m \u001b[0mgroup\u001b[0m \u001b[0;32min\u001b[0m \u001b[0mzip\u001b[0m\u001b[0;34m(\u001b[0m\u001b[0muniquePFMJD\u001b[0m\u001b[0;34m,\u001b[0m\u001b[0mgroupedData\u001b[0m\u001b[0;34m)\u001b[0m\u001b[0;34m:\u001b[0m\u001b[0;34m\u001b[0m\u001b[0m\n\u001b[1;32m      9\u001b[0m     \u001b[0;32mfor\u001b[0m \u001b[0mtab\u001b[0m \u001b[0;32min\u001b[0m \u001b[0mmctables\u001b[0m\u001b[0;34m:\u001b[0m\u001b[0;34m\u001b[0m\u001b[0m\n\u001b[0;32m---> 10\u001b[0;31m         \u001b[0mtemp\u001b[0m \u001b[0;34m=\u001b[0m \u001b[0mtab\u001b[0m\u001b[0;34m[\u001b[0m\u001b[0mtab\u001b[0m\u001b[0;34m[\u001b[0m\u001b[0;34m'PLATE'\u001b[0m\u001b[0;34m]\u001b[0m\u001b[0;34m==\u001b[0m\u001b[0mpfmjd\u001b[0m\u001b[0;34m[\u001b[0m\u001b[0;36m0\u001b[0m\u001b[0;34m]\u001b[0m\u001b[0;34m]\u001b[0m\u001b[0;34m\u001b[0m\u001b[0m\n\u001b[0m\u001b[1;32m     11\u001b[0m         \u001b[0mtemp\u001b[0m \u001b[0;34m=\u001b[0m \u001b[0mtemp\u001b[0m\u001b[0;34m[\u001b[0m\u001b[0mtemp\u001b[0m\u001b[0;34m[\u001b[0m\u001b[0;34m'FIBER'\u001b[0m\u001b[0;34m]\u001b[0m\u001b[0;34m==\u001b[0m\u001b[0mpfmjd\u001b[0m\u001b[0;34m[\u001b[0m\u001b[0;36m1\u001b[0m\u001b[0;34m]\u001b[0m\u001b[0;34m]\u001b[0m\u001b[0;34m\u001b[0m\u001b[0m\n\u001b[1;32m     12\u001b[0m         \u001b[0;32mif\u001b[0m \u001b[0mlen\u001b[0m\u001b[0;34m(\u001b[0m\u001b[0mtemp\u001b[0m\u001b[0;34m)\u001b[0m\u001b[0;34m==\u001b[0m\u001b[0;36m0\u001b[0m\u001b[0;34m:\u001b[0m\u001b[0;34m\u001b[0m\u001b[0m\n",
      "\u001b[0;31mKeyboardInterrupt\u001b[0m: "
     ]
    }
   ],
   "source": [
    "import cProfile, pstats, io\n",
    "pr = cProfile.Profile()\n",
    "pr.enable()\n",
    "\n",
    "#final_list = Table(names=('zabs','cover','rewgrid'),dtype=(list,list,list))\n",
    "final_list = []\n",
    "\n",
    "for pfmjd, group in zip(uniquePFMJD,groupedData):\n",
    "    for tab in mctables:\n",
    "        temp = tab[tab['PLATE']==pfmjd[0]]\n",
    "        temp = temp[temp['FIBER']==pfmjd[1]]\n",
    "        if len(temp)==0:\n",
    "            continue\n",
    "        else:\n",
    "            final_list.append([group['ZABS'],temp[0][2][zrange],temp[0][3][zrange]])\n",
    "            break\n",
    "pr.disable()\n",
    "s = io.StringIO()\n",
    "sortby = 'cumulative'\n",
    "ps = pstats.Stats(pr, stream=s).sort_stats(sortby)\n",
    "ps.print_stats()\n",
    "print(s.getvalue())"
   ]
  },
  {
   "cell_type": "code",
   "execution_count": 17,
   "metadata": {},
   "outputs": [],
   "source": [
    "t=Table(names=('zabs','cover'),dtype=(list,list))\n",
    "#help(Table.add_row)\n",
    "t.add_row([[1,1],[1,1]])"
   ]
  },
  {
   "cell_type": "code",
   "execution_count": 77,
   "metadata": {},
   "outputs": [],
   "source": [
    "del final_list"
   ]
  },
  {
   "cell_type": "code",
   "execution_count": null,
   "metadata": {},
   "outputs": [],
   "source": [
    "zlist = [group['ZABS'].data for group in groupedData.groups]"
   ]
  },
  {
   "cell_type": "code",
   "execution_count": 94,
   "metadata": {},
   "outputs": [
    {
     "data": {
      "text/plain": [
       "array([ 1.38195205], dtype=float32)"
      ]
     },
     "execution_count": 94,
     "metadata": {},
     "output_type": "execute_result"
    }
   ],
   "source": [
    "groupedData.groups[0]['ZABS'].data"
   ]
  },
  {
   "cell_type": "code",
   "execution_count": 9,
   "metadata": {},
   "outputs": [
    {
     "data": {
      "text/plain": [
       "ColDefs(\n",
       "    name = 'PLATE'; format = 'J'\n",
       "    name = 'FIBER'; format = 'J'\n",
       "    name = 'ISITCOVERED'; format = '7835B'\n",
       "    name = 'REWMIN_MGII_2796'; format = '7835E'\n",
       "    name = 'REWMIN_MGII_2803'; format = '7835E'\n",
       ")"
      ]
     },
     "execution_count": 9,
     "metadata": {},
     "output_type": "execute_result"
    }
   ],
   "source": [
    "temp = mctables[0]\n",
    "temp.columns"
   ]
  },
  {
   "cell_type": "code",
   "execution_count": 34,
   "metadata": {},
   "outputs": [
    {
     "data": {
      "text/plain": [
       "array([ 1.,  2.,  2.])"
      ]
     },
     "execution_count": 34,
     "metadata": {},
     "output_type": "execute_result"
    }
   ],
   "source": [
    "a = [(1,1.2),(2,3.2),(2,3.2)]\n",
    "np.array(a)[:,0]"
   ]
  },
  {
   "cell_type": "code",
   "execution_count": 7,
   "metadata": {},
   "outputs": [
    {
     "data": {
      "image/png": "[encoded data removed]",
      "text/plain": [
       "<matplotlib.figure.Figure at 0x7f98645b3c88>"
      ]
     },
     "metadata": {},
     "output_type": "display_data"
    }
   ],
   "source": [
    "minREW = 0.3\n",
    "func = lambda z,A: A*getdata._dNdz(z,minREW)\n",
    "fulldata = getdata.getObsData()\n",
    "fulldata = fulldata[fulldata['REW_MGII_2796'] > minREW]\n",
    "zgrid = getdata._getzgrid()\n",
    "hist = np.histogram(fulldata['ZABS'],20)\n",
    "plt.semilogy(hist[1][1:],hist[0],hist[1][1:],func(hist[1][1:],1000))\n",
    "plt.show()"
   ]
  },
  {
   "cell_type": "code",
   "execution_count": 21,
   "metadata": {},
   "outputs": [
    {
     "ename": "KeyboardInterrupt",
     "evalue": "",
     "output_type": "error",
     "traceback": [
      "\u001b[0;31m---------------------------------------------------------------------------\u001b[0m",
      "\u001b[0;31mKeyboardInterrupt\u001b[0m                         Traceback (most recent call last)",
      "\u001b[0;32m<ipython-input-21-8eba4a6e28b1>\u001b[0m in \u001b[0;36m<module>\u001b[0;34m()\u001b[0m\n\u001b[0;32m----> 1\u001b[0;31m \u001b[0mplt\u001b[0m\u001b[0;34m.\u001b[0m\u001b[0mhist\u001b[0m\u001b[0;34m(\u001b[0m\u001b[0mmctables\u001b[0m\u001b[0;34m[\u001b[0m\u001b[0;36m0\u001b[0m\u001b[0;34m]\u001b[0m\u001b[0;34m[\u001b[0m\u001b[0;34m'REWMIN_MGII_2796'\u001b[0m\u001b[0;34m]\u001b[0m\u001b[0;34m)\u001b[0m\u001b[0;34m\u001b[0m\u001b[0m\n\u001b[0m\u001b[1;32m      2\u001b[0m \u001b[0mplt\u001b[0m\u001b[0;34m.\u001b[0m\u001b[0mshow\u001b[0m\u001b[0;34m(\u001b[0m\u001b[0;34m)\u001b[0m\u001b[0;34m\u001b[0m\u001b[0m\n",
      "\u001b[0;32m~/anaconda3/lib/python3.5/site-packages/matplotlib/pyplot.py\u001b[0m in \u001b[0;36mhist\u001b[0;34m(x, bins, range, density, weights, cumulative, bottom, histtype, align, orientation, rwidth, log, color, label, stacked, normed, hold, data, **kwargs)\u001b[0m\n\u001b[1;32m   3023\u001b[0m                       \u001b[0mhisttype\u001b[0m\u001b[0;34m=\u001b[0m\u001b[0mhisttype\u001b[0m\u001b[0;34m,\u001b[0m \u001b[0malign\u001b[0m\u001b[0;34m=\u001b[0m\u001b[0malign\u001b[0m\u001b[0;34m,\u001b[0m \u001b[0morientation\u001b[0m\u001b[0;34m=\u001b[0m\u001b[0morientation\u001b[0m\u001b[0;34m,\u001b[0m\u001b[0;34m\u001b[0m\u001b[0m\n\u001b[1;32m   3024\u001b[0m                       \u001b[0mrwidth\u001b[0m\u001b[0;34m=\u001b[0m\u001b[0mrwidth\u001b[0m\u001b[0;34m,\u001b[0m \u001b[0mlog\u001b[0m\u001b[0;34m=\u001b[0m\u001b[0mlog\u001b[0m\u001b[0;34m,\u001b[0m \u001b[0mcolor\u001b[0m\u001b[0;34m=\u001b[0m\u001b[0mcolor\u001b[0m\u001b[0;34m,\u001b[0m \u001b[0mlabel\u001b[0m\u001b[0;34m=\u001b[0m\u001b[0mlabel\u001b[0m\u001b[0;34m,\u001b[0m\u001b[0;34m\u001b[0m\u001b[0m\n\u001b[0;32m-> 3025\u001b[0;31m                       stacked=stacked, normed=normed, data=data, **kwargs)\n\u001b[0m\u001b[1;32m   3026\u001b[0m     \u001b[0;32mfinally\u001b[0m\u001b[0;34m:\u001b[0m\u001b[0;34m\u001b[0m\u001b[0m\n\u001b[1;32m   3027\u001b[0m         \u001b[0max\u001b[0m\u001b[0;34m.\u001b[0m\u001b[0m_hold\u001b[0m \u001b[0;34m=\u001b[0m \u001b[0mwashold\u001b[0m\u001b[0;34m\u001b[0m\u001b[0m\n",
      "\u001b[0;32m~/anaconda3/lib/python3.5/site-packages/matplotlib/__init__.py\u001b[0m in \u001b[0;36minner\u001b[0;34m(ax, *args, **kwargs)\u001b[0m\n\u001b[1;32m   1715\u001b[0m                     warnings.warn(msg % (label_namer, func.__name__),\n\u001b[1;32m   1716\u001b[0m                                   RuntimeWarning, stacklevel=2)\n\u001b[0;32m-> 1717\u001b[0;31m             \u001b[0;32mreturn\u001b[0m \u001b[0mfunc\u001b[0m\u001b[0;34m(\u001b[0m\u001b[0max\u001b[0m\u001b[0;34m,\u001b[0m \u001b[0;34m*\u001b[0m\u001b[0margs\u001b[0m\u001b[0;34m,\u001b[0m \u001b[0;34m**\u001b[0m\u001b[0mkwargs\u001b[0m\u001b[0;34m)\u001b[0m\u001b[0;34m\u001b[0m\u001b[0m\n\u001b[0m\u001b[1;32m   1718\u001b[0m         \u001b[0mpre_doc\u001b[0m \u001b[0;34m=\u001b[0m \u001b[0minner\u001b[0m\u001b[0;34m.\u001b[0m\u001b[0m__doc__\u001b[0m\u001b[0;34m\u001b[0m\u001b[0m\n\u001b[1;32m   1719\u001b[0m         \u001b[0;32mif\u001b[0m \u001b[0mpre_doc\u001b[0m \u001b[0;32mis\u001b[0m \u001b[0;32mNone\u001b[0m\u001b[0;34m:\u001b[0m\u001b[0;34m\u001b[0m\u001b[0m\n",
      "\u001b[0;32m~/anaconda3/lib/python3.5/site-packages/matplotlib/axes/_axes.py\u001b[0m in \u001b[0;36mhist\u001b[0;34m(***failed resolving arguments***)\u001b[0m\n\u001b[1;32m   6239\u001b[0m                 patch = _barfunc(bins[:-1]+boffset, height, width,\n\u001b[1;32m   6240\u001b[0m                                  \u001b[0malign\u001b[0m\u001b[0;34m=\u001b[0m\u001b[0;34m'center'\u001b[0m\u001b[0;34m,\u001b[0m \u001b[0mlog\u001b[0m\u001b[0;34m=\u001b[0m\u001b[0mlog\u001b[0m\u001b[0;34m,\u001b[0m\u001b[0;34m\u001b[0m\u001b[0m\n\u001b[0;32m-> 6241\u001b[0;31m                                  color=c, **{bottom_kwarg: bottom})\n\u001b[0m\u001b[1;32m   6242\u001b[0m                 \u001b[0mpatches\u001b[0m\u001b[0;34m.\u001b[0m\u001b[0mappend\u001b[0m\u001b[0;34m(\u001b[0m\u001b[0mpatch\u001b[0m\u001b[0;34m)\u001b[0m\u001b[0;34m\u001b[0m\u001b[0m\n\u001b[1;32m   6243\u001b[0m                 \u001b[0;32mif\u001b[0m \u001b[0mstacked\u001b[0m\u001b[0;34m:\u001b[0m\u001b[0;34m\u001b[0m\u001b[0m\n",
      "\u001b[0;32m~/anaconda3/lib/python3.5/site-packages/matplotlib/__init__.py\u001b[0m in \u001b[0;36minner\u001b[0;34m(ax, *args, **kwargs)\u001b[0m\n\u001b[1;32m   1715\u001b[0m                     warnings.warn(msg % (label_namer, func.__name__),\n\u001b[1;32m   1716\u001b[0m                                   RuntimeWarning, stacklevel=2)\n\u001b[0;32m-> 1717\u001b[0;31m             \u001b[0;32mreturn\u001b[0m \u001b[0mfunc\u001b[0m\u001b[0;34m(\u001b[0m\u001b[0max\u001b[0m\u001b[0;34m,\u001b[0m \u001b[0;34m*\u001b[0m\u001b[0margs\u001b[0m\u001b[0;34m,\u001b[0m \u001b[0;34m**\u001b[0m\u001b[0mkwargs\u001b[0m\u001b[0;34m)\u001b[0m\u001b[0;34m\u001b[0m\u001b[0m\n\u001b[0m\u001b[1;32m   1718\u001b[0m         \u001b[0mpre_doc\u001b[0m \u001b[0;34m=\u001b[0m \u001b[0minner\u001b[0m\u001b[0;34m.\u001b[0m\u001b[0m__doc__\u001b[0m\u001b[0;34m\u001b[0m\u001b[0m\n\u001b[1;32m   1719\u001b[0m         \u001b[0;32mif\u001b[0m \u001b[0mpre_doc\u001b[0m \u001b[0;32mis\u001b[0m \u001b[0;32mNone\u001b[0m\u001b[0;34m:\u001b[0m\u001b[0;34m\u001b[0m\u001b[0m\n",
      "\u001b[0;32m~/anaconda3/lib/python3.5/site-packages/matplotlib/axes/_axes.py\u001b[0m in \u001b[0;36mbar\u001b[0;34m(self, *args, **kwargs)\u001b[0m\n\u001b[1;32m   2133\u001b[0m             \u001b[0mymin\u001b[0m \u001b[0;34m=\u001b[0m \u001b[0mmax\u001b[0m\u001b[0;34m(\u001b[0m\u001b[0mymin\u001b[0m \u001b[0;34m*\u001b[0m \u001b[0;36m0.9\u001b[0m\u001b[0;34m,\u001b[0m \u001b[0;36m1e-100\u001b[0m\u001b[0;34m)\u001b[0m\u001b[0;34m\u001b[0m\u001b[0m\n\u001b[1;32m   2134\u001b[0m             \u001b[0mself\u001b[0m\u001b[0;34m.\u001b[0m\u001b[0mdataLim\u001b[0m\u001b[0;34m.\u001b[0m\u001b[0mintervaly\u001b[0m \u001b[0;34m=\u001b[0m \u001b[0;34m(\u001b[0m\u001b[0mymin\u001b[0m\u001b[0;34m,\u001b[0m \u001b[0mymax\u001b[0m\u001b[0;34m)\u001b[0m\u001b[0;34m\u001b[0m\u001b[0m\n\u001b[0;32m-> 2135\u001b[0;31m         \u001b[0mself\u001b[0m\u001b[0;34m.\u001b[0m\u001b[0mautoscale_view\u001b[0m\u001b[0;34m(\u001b[0m\u001b[0;34m)\u001b[0m\u001b[0;34m\u001b[0m\u001b[0m\n\u001b[0m\u001b[1;32m   2136\u001b[0m \u001b[0;34m\u001b[0m\u001b[0m\n\u001b[1;32m   2137\u001b[0m         \u001b[0mbar_container\u001b[0m \u001b[0;34m=\u001b[0m \u001b[0mBarContainer\u001b[0m\u001b[0;34m(\u001b[0m\u001b[0mpatches\u001b[0m\u001b[0;34m,\u001b[0m \u001b[0merrorbar\u001b[0m\u001b[0;34m,\u001b[0m \u001b[0mlabel\u001b[0m\u001b[0;34m=\u001b[0m\u001b[0mlabel\u001b[0m\u001b[0;34m)\u001b[0m\u001b[0;34m\u001b[0m\u001b[0m\n",
      "\u001b[0;32m~/anaconda3/lib/python3.5/site-packages/matplotlib/axes/_base.py\u001b[0m in \u001b[0;36mautoscale_view\u001b[0;34m(self, tight, scalex, scaley)\u001b[0m\n\u001b[1;32m   2278\u001b[0m             \u001b[0mstickies\u001b[0m \u001b[0;34m=\u001b[0m \u001b[0;34m[\u001b[0m\u001b[0martist\u001b[0m\u001b[0;34m.\u001b[0m\u001b[0msticky_edges\u001b[0m \u001b[0;32mfor\u001b[0m \u001b[0martist\u001b[0m \u001b[0;32min\u001b[0m \u001b[0mself\u001b[0m\u001b[0;34m.\u001b[0m\u001b[0mget_children\u001b[0m\u001b[0;34m(\u001b[0m\u001b[0;34m)\u001b[0m\u001b[0;34m]\u001b[0m\u001b[0;34m\u001b[0m\u001b[0m\n\u001b[1;32m   2279\u001b[0m             \u001b[0mx_stickies\u001b[0m \u001b[0;34m=\u001b[0m \u001b[0msum\u001b[0m\u001b[0;34m(\u001b[0m\u001b[0;34m[\u001b[0m\u001b[0msticky\u001b[0m\u001b[0;34m.\u001b[0m\u001b[0mx\u001b[0m \u001b[0;32mfor\u001b[0m \u001b[0msticky\u001b[0m \u001b[0;32min\u001b[0m \u001b[0mstickies\u001b[0m\u001b[0;34m]\u001b[0m\u001b[0;34m,\u001b[0m \u001b[0;34m[\u001b[0m\u001b[0;34m]\u001b[0m\u001b[0;34m)\u001b[0m\u001b[0;34m\u001b[0m\u001b[0m\n\u001b[0;32m-> 2280\u001b[0;31m             \u001b[0my_stickies\u001b[0m \u001b[0;34m=\u001b[0m \u001b[0msum\u001b[0m\u001b[0;34m(\u001b[0m\u001b[0;34m[\u001b[0m\u001b[0msticky\u001b[0m\u001b[0;34m.\u001b[0m\u001b[0my\u001b[0m \u001b[0;32mfor\u001b[0m \u001b[0msticky\u001b[0m \u001b[0;32min\u001b[0m \u001b[0mstickies\u001b[0m\u001b[0;34m]\u001b[0m\u001b[0;34m,\u001b[0m \u001b[0;34m[\u001b[0m\u001b[0;34m]\u001b[0m\u001b[0;34m)\u001b[0m\u001b[0;34m\u001b[0m\u001b[0m\n\u001b[0m\u001b[1;32m   2281\u001b[0m             \u001b[0;32mif\u001b[0m \u001b[0mself\u001b[0m\u001b[0;34m.\u001b[0m\u001b[0mget_xscale\u001b[0m\u001b[0;34m(\u001b[0m\u001b[0;34m)\u001b[0m\u001b[0;34m.\u001b[0m\u001b[0mlower\u001b[0m\u001b[0;34m(\u001b[0m\u001b[0;34m)\u001b[0m \u001b[0;34m==\u001b[0m \u001b[0;34m'log'\u001b[0m\u001b[0;34m:\u001b[0m\u001b[0;34m\u001b[0m\u001b[0m\n\u001b[1;32m   2282\u001b[0m                 \u001b[0mx_stickies\u001b[0m \u001b[0;34m=\u001b[0m \u001b[0;34m[\u001b[0m\u001b[0mxs\u001b[0m \u001b[0;32mfor\u001b[0m \u001b[0mxs\u001b[0m \u001b[0;32min\u001b[0m \u001b[0mx_stickies\u001b[0m \u001b[0;32mif\u001b[0m \u001b[0mxs\u001b[0m \u001b[0;34m>\u001b[0m \u001b[0;36m0\u001b[0m\u001b[0;34m]\u001b[0m\u001b[0;34m\u001b[0m\u001b[0m\n",
      "\u001b[0;31mKeyboardInterrupt\u001b[0m: "
     ]
    }
   ],
   "source": [
    "plt.hist(mctables[0]['REWMIN_MGII_2796'])\n",
    "plt.show()"
   ]
  },
  {
   "cell_type": "code",
   "execution_count": null,
   "metadata": {},
   "outputs": [],
   "source": []
  }
 ],
 "metadata": {
  "kernelspec": {
   "display_name": "Python [conda root]",
   "language": "python",
   "name": "conda-root-py"
  },
  "language_info": {
   "codemirror_mode": {
    "name": "ipython",
    "version": 3
   },
   "file_extension": ".py",
   "mimetype": "text/x-python",
   "name": "python",
   "nbconvert_exporter": "python",
   "pygments_lexer": "ipython3",
   "version": "3.5.4"
  }
 },
 "nbformat": 4,
 "nbformat_minor": 2
}
